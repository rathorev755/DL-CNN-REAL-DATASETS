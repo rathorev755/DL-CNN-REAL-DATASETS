{
 "cells": [
  {
   "cell_type": "code",
   "execution_count": 46,
   "id": "c3fa7c09",
   "metadata": {},
   "outputs": [],
   "source": [
    "import os"
   ]
  },
  {
   "cell_type": "code",
   "execution_count": 47,
   "id": "837a5858",
   "metadata": {},
   "outputs": [],
   "source": [
    "my_data_dir = 'C:\\\\Users\\\\vrathore\\\\Documents\\\\ML Project\\\\cell_images'"
   ]
  },
  {
   "cell_type": "code",
   "execution_count": 48,
   "id": "0e7ffef5",
   "metadata": {},
   "outputs": [
    {
     "data": {
      "text/plain": [
       "['test', 'train']"
      ]
     },
     "execution_count": 48,
     "metadata": {},
     "output_type": "execute_result"
    }
   ],
   "source": [
    "os.listdir(my_data_dir)"
   ]
  },
  {
   "cell_type": "code",
   "execution_count": 49,
   "id": "28867b47",
   "metadata": {},
   "outputs": [],
   "source": [
    "import pandas as pd\n",
    "import numpy as np\n",
    "import seaborn as sns\n",
    "import matplotlib.pyplot as plt\n",
    "from matplotlib.image import imread"
   ]
  },
  {
   "cell_type": "code",
   "execution_count": 50,
   "id": "f4fef10e",
   "metadata": {},
   "outputs": [],
   "source": [
    "test_path = my_data_dir+'\\\\test\\\\'\n",
    "train_path = my_data_dir+'\\\\train\\\\'"
   ]
  },
  {
   "cell_type": "code",
   "execution_count": 51,
   "id": "9a5618d8",
   "metadata": {},
   "outputs": [
    {
     "data": {
      "text/plain": [
       "['parasitized', 'uninfected']"
      ]
     },
     "execution_count": 51,
     "metadata": {},
     "output_type": "execute_result"
    }
   ],
   "source": [
    "os.listdir(train_path)"
   ]
  },
  {
   "cell_type": "code",
   "execution_count": 52,
   "id": "d831dec5",
   "metadata": {},
   "outputs": [
    {
     "data": {
      "text/plain": [
       "'C100P61ThinF_IMG_20150918_144104_cell_162.png'"
      ]
     },
     "execution_count": 52,
     "metadata": {},
     "output_type": "execute_result"
    }
   ],
   "source": [
    "os.listdir(train_path+'\\\\parasitized')[0]"
   ]
  },
  {
   "cell_type": "code",
   "execution_count": 53,
   "id": "88111273",
   "metadata": {},
   "outputs": [],
   "source": [
    "para_cell = train_path+'\\\\parasitized'+'\\\\C100P61ThinF_IMG_20150918_144104_cell_162.png'"
   ]
  },
  {
   "cell_type": "code",
   "execution_count": 54,
   "id": "d9d82d02",
   "metadata": {},
   "outputs": [
    {
     "data": {
      "text/plain": [
       "'C:\\\\Users\\\\vrathore\\\\Documents\\\\ML Project\\\\cell_images\\\\train\\\\\\\\parasitized\\\\C100P61ThinF_IMG_20150918_144104_cell_162.png'"
      ]
     },
     "execution_count": 54,
     "metadata": {},
     "output_type": "execute_result"
    }
   ],
   "source": [
    "para_cell"
   ]
  },
  {
   "cell_type": "code",
   "execution_count": 55,
   "id": "c94b7ebf",
   "metadata": {},
   "outputs": [
    {
     "data": {
      "text/plain": [
       "array([[[0., 0., 0.],\n",
       "        [0., 0., 0.],\n",
       "        [0., 0., 0.],\n",
       "        ...,\n",
       "        [0., 0., 0.],\n",
       "        [0., 0., 0.],\n",
       "        [0., 0., 0.]],\n",
       "\n",
       "       [[0., 0., 0.],\n",
       "        [0., 0., 0.],\n",
       "        [0., 0., 0.],\n",
       "        ...,\n",
       "        [0., 0., 0.],\n",
       "        [0., 0., 0.],\n",
       "        [0., 0., 0.]],\n",
       "\n",
       "       [[0., 0., 0.],\n",
       "        [0., 0., 0.],\n",
       "        [0., 0., 0.],\n",
       "        ...,\n",
       "        [0., 0., 0.],\n",
       "        [0., 0., 0.],\n",
       "        [0., 0., 0.]],\n",
       "\n",
       "       ...,\n",
       "\n",
       "       [[0., 0., 0.],\n",
       "        [0., 0., 0.],\n",
       "        [0., 0., 0.],\n",
       "        ...,\n",
       "        [0., 0., 0.],\n",
       "        [0., 0., 0.],\n",
       "        [0., 0., 0.]],\n",
       "\n",
       "       [[0., 0., 0.],\n",
       "        [0., 0., 0.],\n",
       "        [0., 0., 0.],\n",
       "        ...,\n",
       "        [0., 0., 0.],\n",
       "        [0., 0., 0.],\n",
       "        [0., 0., 0.]],\n",
       "\n",
       "       [[0., 0., 0.],\n",
       "        [0., 0., 0.],\n",
       "        [0., 0., 0.],\n",
       "        ...,\n",
       "        [0., 0., 0.],\n",
       "        [0., 0., 0.],\n",
       "        [0., 0., 0.]]], dtype=float32)"
      ]
     },
     "execution_count": 55,
     "metadata": {},
     "output_type": "execute_result"
    }
   ],
   "source": [
    "imread(para_cell)"
   ]
  },
  {
   "cell_type": "code",
   "execution_count": 56,
   "id": "a2cf34c0",
   "metadata": {},
   "outputs": [
    {
     "data": {
      "text/plain": [
       "(148, 142, 3)"
      ]
     },
     "execution_count": 56,
     "metadata": {},
     "output_type": "execute_result"
    }
   ],
   "source": [
    "imread(para_cell).shape"
   ]
  },
  {
   "cell_type": "code",
   "execution_count": 57,
   "id": "b07990b2",
   "metadata": {},
   "outputs": [],
   "source": [
    "para_img= imread(para_cell)"
   ]
  },
  {
   "cell_type": "code",
   "execution_count": 58,
   "id": "6a1502d2",
   "metadata": {},
   "outputs": [
    {
     "data": {
      "text/plain": [
       "<matplotlib.image.AxesImage at 0x1d39a99e500>"
      ]
     },
     "execution_count": 58,
     "metadata": {},
     "output_type": "execute_result"
    },
    {
     "data": {
      "image/png": "[encoded data removed]",
      "text/plain": [
       "<Figure size 640x480 with 1 Axes>"
      ]
     },
     "metadata": {},
     "output_type": "display_data"
    }
   ],
   "source": [
    "plt.imshow(para_img)"
   ]
  },
  {
   "cell_type": "code",
   "execution_count": 59,
   "id": "d5a9240b",
   "metadata": {},
   "outputs": [
    {
     "data": {
      "text/plain": [
       "(148, 142, 3)"
      ]
     },
     "execution_count": 59,
     "metadata": {},
     "output_type": "execute_result"
    }
   ],
   "source": [
    "para_img.shape"
   ]
  },
  {
   "cell_type": "code",
   "execution_count": 60,
   "id": "1c772244",
   "metadata": {},
   "outputs": [
    {
     "data": {
      "text/plain": [
       "<matplotlib.image.AxesImage at 0x1d3afe187c0>"
      ]
     },
     "execution_count": 60,
     "metadata": {},
     "output_type": "execute_result"
    },
    {
     "data": {
      "image/png": "[encoded data removed]",
      "text/plain": [
       "<Figure size 640x480 with 1 Axes>"
      ]
     },
     "metadata": {},
     "output_type": "display_data"
    }
   ],
   "source": [
    "unifected_cell_path = train_path+'\\\\uninfected\\\\'+os.listdir(train_path+'\\\\uninfected')[0]\n",
    "unifected_cell = imread(unifected_cell_path)\n",
    "plt.imshow(unifected_cell)"
   ]
  },
  {
   "cell_type": "code",
   "execution_count": 61,
   "id": "22242f4b",
   "metadata": {},
   "outputs": [
    {
     "data": {
      "text/plain": [
       "12480"
      ]
     },
     "execution_count": 61,
     "metadata": {},
     "output_type": "execute_result"
    }
   ],
   "source": [
    "len(os.listdir(train_path+'parasitized'))"
   ]
  },
  {
   "cell_type": "code",
   "execution_count": 62,
   "id": "aa323b80",
   "metadata": {},
   "outputs": [
    {
     "data": {
      "text/plain": [
       "12480"
      ]
     },
     "execution_count": 62,
     "metadata": {},
     "output_type": "execute_result"
    }
   ],
   "source": [
    "len(os.listdir(train_path+'uninfected'))"
   ]
  },
  {
   "cell_type": "code",
   "execution_count": 63,
   "id": "96939bfe",
   "metadata": {},
   "outputs": [
    {
     "data": {
      "text/plain": [
       "['C100P61ThinF_IMG_20150918_144104_cell_128.png',\n",
       " 'C100P61ThinF_IMG_20150918_144104_cell_131.png',\n",
       " 'C100P61ThinF_IMG_20150918_144104_cell_144.png',\n",
       " 'C100P61ThinF_IMG_20150918_144104_cell_21.png',\n",
       " 'C100P61ThinF_IMG_20150918_144104_cell_25.png',\n",
       " 'C100P61ThinF_IMG_20150918_144104_cell_48.png',\n",
       " 'C100P61ThinF_IMG_20150918_144104_cell_65.png',\n",
       " 'C100P61ThinF_IMG_20150918_144348_cell_120.png',\n",
       " 'C100P61ThinF_IMG_20150918_144348_cell_125.png',\n",
       " 'C100P61ThinF_IMG_20150918_144348_cell_131.png',\n",
       " 'C100P61ThinF_IMG_20150918_144348_cell_2.png',\n",
       " 'C100P61ThinF_IMG_20150918_144348_cell_25.png',\n",
       " 'C100P61ThinF_IMG_20150918_144348_cell_40.png',\n",
       " 'C100P61ThinF_IMG_20150918_144348_cell_71.png',\n",
       " 'C100P61ThinF_IMG_20150918_144823_cell_126.png',\n",
       " 'C100P61ThinF_IMG_20150918_144823_cell_127.png',\n",
       " 'C100P61ThinF_IMG_20150918_144823_cell_139.png',\n",
       " 'C100P61ThinF_IMG_20150918_144823_cell_142.png',\n",
       " 'C100P61ThinF_IMG_20150918_144823_cell_151.png',\n",
       " 'C100P61ThinF_IMG_20150918_144823_cell_21.png',\n",
       " 'C100P61ThinF_IMG_20150918_144823_cell_34.png',\n",
       " 'C100P61ThinF_IMG_20150918_144823_cell_71.png',\n",
       " 'C100P61ThinF_IMG_20150918_145042_cell_161.png',\n",
       " 'C100P61ThinF_IMG_20150918_145042_cell_27.png',\n",
       " 'C100P61ThinF_IMG_20150918_145042_cell_5.png',\n",
       " 'C100P61ThinF_IMG_20150918_145042_cell_59.png',\n",
       " 'C100P61ThinF_IMG_20150918_145042_cell_7.png',\n",
       " 'C100P61ThinF_IMG_20150918_145042_cell_81.png',\n",
       " 'C100P61ThinF_IMG_20150918_145042_cell_94.png',\n",
       " 'C100P61ThinF_IMG_20150918_145422_cell_12.png',\n",
       " 'C100P61ThinF_IMG_20150918_145422_cell_136.png',\n",
       " 'C100P61ThinF_IMG_20150918_145422_cell_157.png',\n",
       " 'C100P61ThinF_IMG_20150918_145422_cell_21.png',\n",
       " 'C100P61ThinF_IMG_20150918_145422_cell_3.png',\n",
       " 'C100P61ThinF_IMG_20150918_145422_cell_37.png',\n",
       " 'C100P61ThinF_IMG_20150918_145422_cell_85.png',\n",
       " 'C100P61ThinF_IMG_20150918_145422_cell_86.png',\n",
       " 'C100P61ThinF_IMG_20150918_145609_cell_101.png',\n",
       " 'C100P61ThinF_IMG_20150918_145609_cell_113.png',\n",
       " 'C100P61ThinF_IMG_20150918_145609_cell_121.png',\n",
       " 'C100P61ThinF_IMG_20150918_145609_cell_30.png',\n",
       " 'C100P61ThinF_IMG_20150918_145609_cell_46.png',\n",
       " 'C100P61ThinF_IMG_20150918_145609_cell_48.png',\n",
       " 'C100P61ThinF_IMG_20150918_145609_cell_75.png',\n",
       " 'C100P61ThinF_IMG_20150918_145609_cell_91.png',\n",
       " 'C100P61ThinF_IMG_20150918_145609_cell_99.png',\n",
       " 'C100P61ThinF_IMG_20150918_145938_cell_138.png',\n",
       " 'C100P61ThinF_IMG_20150918_145938_cell_154.png',\n",
       " 'C100P61ThinF_IMG_20150918_145938_cell_63.png',\n",
       " 'C100P61ThinF_IMG_20150918_145938_cell_64.png',\n",
       " 'C100P61ThinF_IMG_20150918_145938_cell_67.png',\n",
       " 'C100P61ThinF_IMG_20150918_145938_cell_72.png',\n",
       " 'C100P61ThinF_IMG_20150918_145938_cell_75.png',\n",
       " 'C100P61ThinF_IMG_20150918_145938_cell_83.png',\n",
       " 'C100P61ThinF_IMG_20150918_150041_cell_108.png',\n",
       " 'C100P61ThinF_IMG_20150918_150041_cell_12.png',\n",
       " 'C100P61ThinF_IMG_20150918_150041_cell_125.png',\n",
       " 'C100P61ThinF_IMG_20150918_150041_cell_127.png',\n",
       " 'C100P61ThinF_IMG_20150918_150041_cell_15.png',\n",
       " 'C100P61ThinF_IMG_20150918_150041_cell_47.png',\n",
       " 'C100P61ThinF_IMG_20150918_150041_cell_76.png',\n",
       " 'C101P62ThinF_IMG_20150918_151006_cell_17.png',\n",
       " 'C101P62ThinF_IMG_20150918_151006_cell_29.png',\n",
       " 'C101P62ThinF_IMG_20150918_151006_cell_32.png',\n",
       " 'C101P62ThinF_IMG_20150918_151006_cell_53.png',\n",
       " 'C101P62ThinF_IMG_20150918_151006_cell_56.png',\n",
       " 'C101P62ThinF_IMG_20150918_151006_cell_59.png',\n",
       " 'C101P62ThinF_IMG_20150918_151006_cell_8.png',\n",
       " 'C101P62ThinF_IMG_20150918_151149_cell_23.png',\n",
       " 'C101P62ThinF_IMG_20150918_151149_cell_29.png',\n",
       " 'C101P62ThinF_IMG_20150918_151149_cell_32.png',\n",
       " 'C101P62ThinF_IMG_20150918_151149_cell_34.png',\n",
       " 'C101P62ThinF_IMG_20150918_151149_cell_61.png',\n",
       " 'C101P62ThinF_IMG_20150918_151149_cell_63.png',\n",
       " 'C101P62ThinF_IMG_20150918_151239_cell_14.png',\n",
       " 'C101P62ThinF_IMG_20150918_151239_cell_17.png',\n",
       " 'C101P62ThinF_IMG_20150918_151239_cell_25.png',\n",
       " 'C101P62ThinF_IMG_20150918_151239_cell_29.png',\n",
       " 'C101P62ThinF_IMG_20150918_151239_cell_41.png',\n",
       " 'C101P62ThinF_IMG_20150918_151239_cell_51.png',\n",
       " 'C101P62ThinF_IMG_20150918_151239_cell_59.png',\n",
       " 'C101P62ThinF_IMG_20150918_151239_cell_69.png',\n",
       " 'C101P62ThinF_IMG_20150918_151335_cell_13.png',\n",
       " 'C101P62ThinF_IMG_20150918_151335_cell_16.png',\n",
       " 'C101P62ThinF_IMG_20150918_151335_cell_22.png',\n",
       " 'C101P62ThinF_IMG_20150918_151335_cell_24.png',\n",
       " 'C101P62ThinF_IMG_20150918_151335_cell_38.png',\n",
       " 'C101P62ThinF_IMG_20150918_151335_cell_44.png',\n",
       " 'C101P62ThinF_IMG_20150918_151335_cell_49.png',\n",
       " 'C101P62ThinF_IMG_20150918_151507_cell_10.png',\n",
       " 'C101P62ThinF_IMG_20150918_151507_cell_11.png',\n",
       " 'C101P62ThinF_IMG_20150918_151507_cell_15.png',\n",
       " 'C101P62ThinF_IMG_20150918_151507_cell_21.png',\n",
       " 'C101P62ThinF_IMG_20150918_151507_cell_27.png',\n",
       " 'C101P62ThinF_IMG_20150918_151507_cell_32.png',\n",
       " 'C101P62ThinF_IMG_20150918_151507_cell_40.png',\n",
       " 'C101P62ThinF_IMG_20150918_151507_cell_48.png',\n",
       " 'C101P62ThinF_IMG_20150918_151942_cell_18.png',\n",
       " 'C101P62ThinF_IMG_20150918_151942_cell_28.png',\n",
       " 'C101P62ThinF_IMG_20150918_151942_cell_4.png',\n",
       " 'C101P62ThinF_IMG_20150918_151942_cell_52.png',\n",
       " 'C101P62ThinF_IMG_20150918_151942_cell_53.png',\n",
       " 'C101P62ThinF_IMG_20150918_151942_cell_56.png',\n",
       " 'C101P62ThinF_IMG_20150918_151942_cell_57.png',\n",
       " 'C101P62ThinF_IMG_20150918_155731_cell_12.png',\n",
       " 'C101P62ThinF_IMG_20150918_155731_cell_19.png',\n",
       " 'C101P62ThinF_IMG_20150918_155731_cell_24.png',\n",
       " 'C101P62ThinF_IMG_20150918_155731_cell_25.png',\n",
       " 'C101P62ThinF_IMG_20150918_155731_cell_37.png',\n",
       " 'C101P62ThinF_IMG_20150918_155731_cell_56.png',\n",
       " 'C101P62ThinF_IMG_20150918_155731_cell_57.png',\n",
       " 'C101P62ThinF_IMG_20150923_170246_cell_1.png',\n",
       " 'C101P62ThinF_IMG_20150923_170246_cell_14.png',\n",
       " 'C101P62ThinF_IMG_20150923_170246_cell_19.png',\n",
       " 'C101P62ThinF_IMG_20150923_170246_cell_27.png',\n",
       " 'C101P62ThinF_IMG_20150923_170246_cell_30.png',\n",
       " 'C101P62ThinF_IMG_20150923_170246_cell_42.png',\n",
       " 'C101P62ThinF_IMG_20150923_170246_cell_44.png',\n",
       " 'C101P62ThinF_IMG_20150923_170246_cell_5.png',\n",
       " 'C101P62ThinF_IMG_20150923_170246_cell_7.png',\n",
       " 'C101P62ThinF_IMG_20150923_170344_cell_27.png',\n",
       " 'C101P62ThinF_IMG_20150923_170344_cell_31.png',\n",
       " 'C101P62ThinF_IMG_20150923_170344_cell_41.png',\n",
       " 'C101P62ThinF_IMG_20150923_170344_cell_55.png',\n",
       " 'C101P62ThinF_IMG_20150923_170344_cell_61.png',\n",
       " 'C101P62ThinF_IMG_20150923_170344_cell_69.png',\n",
       " 'C101P62ThinF_IMG_20150923_170344_cell_70.png',\n",
       " 'C102P63ThinF_IMG_20150918_161508_cell_101.png',\n",
       " 'C102P63ThinF_IMG_20150918_161508_cell_113.png',\n",
       " 'C102P63ThinF_IMG_20150918_161508_cell_133.png',\n",
       " 'C102P63ThinF_IMG_20150918_161508_cell_14.png',\n",
       " 'C102P63ThinF_IMG_20150918_161508_cell_143.png',\n",
       " 'C102P63ThinF_IMG_20150918_161508_cell_150.png',\n",
       " 'C102P63ThinF_IMG_20150918_161508_cell_172.png',\n",
       " 'C102P63ThinF_IMG_20150918_161508_cell_175.png',\n",
       " 'C102P63ThinF_IMG_20150918_161508_cell_37.png',\n",
       " 'C102P63ThinF_IMG_20150918_161508_cell_71.png',\n",
       " 'C102P63ThinF_IMG_20150918_161826_cell_152.png',\n",
       " 'C102P63ThinF_IMG_20150918_161826_cell_154.png',\n",
       " 'C102P63ThinF_IMG_20150918_161826_cell_19.png',\n",
       " 'C102P63ThinF_IMG_20150918_161826_cell_41.png',\n",
       " 'C102P63ThinF_IMG_20150918_161826_cell_54.png',\n",
       " 'C102P63ThinF_IMG_20150918_161826_cell_63.png',\n",
       " 'C102P63ThinF_IMG_20150918_161826_cell_65.png',\n",
       " 'C102P63ThinF_IMG_20150918_161826_cell_70.png',\n",
       " 'C102P63ThinF_IMG_20150918_162051_cell_1.png',\n",
       " 'C102P63ThinF_IMG_20150918_162051_cell_100.png',\n",
       " 'C102P63ThinF_IMG_20150918_162051_cell_130.png',\n",
       " 'C102P63ThinF_IMG_20150918_162051_cell_19.png',\n",
       " 'C102P63ThinF_IMG_20150918_162051_cell_29.png',\n",
       " 'C102P63ThinF_IMG_20150918_162051_cell_32.png',\n",
       " 'C102P63ThinF_IMG_20150918_162051_cell_34.png',\n",
       " 'C102P63ThinF_IMG_20150918_162051_cell_65.png',\n",
       " 'C102P63ThinF_IMG_20150918_162051_cell_79.png',\n",
       " 'C102P63ThinF_IMG_20150918_162051_cell_9.png',\n",
       " 'C102P63ThinF_IMG_20150918_162155_cell_116.png',\n",
       " 'C102P63ThinF_IMG_20150918_162155_cell_117.png',\n",
       " 'C102P63ThinF_IMG_20150918_162155_cell_119.png',\n",
       " 'C102P63ThinF_IMG_20150918_162155_cell_32.png',\n",
       " 'C102P63ThinF_IMG_20150918_162155_cell_51.png',\n",
       " 'C102P63ThinF_IMG_20150918_162155_cell_76.png',\n",
       " 'C102P63ThinF_IMG_20150918_162155_cell_88.png',\n",
       " 'C102P63ThinF_IMG_20150918_162300_cell_111.png',\n",
       " 'C102P63ThinF_IMG_20150918_162300_cell_12.png',\n",
       " 'C102P63ThinF_IMG_20150918_162300_cell_129.png',\n",
       " 'C102P63ThinF_IMG_20150918_162300_cell_13.png',\n",
       " 'C102P63ThinF_IMG_20150918_162300_cell_137.png',\n",
       " 'C102P63ThinF_IMG_20150918_162300_cell_15.png',\n",
       " 'C102P63ThinF_IMG_20150918_162300_cell_29.png',\n",
       " 'C102P63ThinF_IMG_20150918_162300_cell_4.png',\n",
       " 'C102P63ThinF_IMG_20150918_162300_cell_63.png',\n",
       " 'C102P63ThinF_IMG_20150918_162300_cell_89.png',\n",
       " 'C102P63ThinF_IMG_20150918_162511_cell_102.png',\n",
       " 'C102P63ThinF_IMG_20150918_162511_cell_131.png',\n",
       " 'C102P63ThinF_IMG_20150918_162511_cell_133.png',\n",
       " 'C102P63ThinF_IMG_20150918_162511_cell_157.png',\n",
       " 'C102P63ThinF_IMG_20150918_162511_cell_163.png',\n",
       " 'C102P63ThinF_IMG_20150918_162511_cell_36.png',\n",
       " 'C102P63ThinF_IMG_20150918_162511_cell_59.png',\n",
       " 'C102P63ThinF_IMG_20150918_162511_cell_93.png',\n",
       " 'C102P63ThinF_IMG_20150918_163054_cell_127.png',\n",
       " 'C102P63ThinF_IMG_20150918_163054_cell_134.png',\n",
       " 'C102P63ThinF_IMG_20150918_163054_cell_144.png',\n",
       " 'C102P63ThinF_IMG_20150918_163054_cell_159.png',\n",
       " 'C102P63ThinF_IMG_20150918_163054_cell_25.png',\n",
       " 'C102P63ThinF_IMG_20150918_163054_cell_6.png',\n",
       " 'C102P63ThinF_IMG_20150918_163054_cell_71.png',\n",
       " 'C102P63ThinF_IMG_20150918_163054_cell_76.png',\n",
       " 'C102P63ThinF_IMG_20150918_163054_cell_83.png',\n",
       " 'C102P63ThinF_IMG_20150918_163054_cell_87.png',\n",
       " 'C103P64ThinF_IMG_20150918_164250_cell_121.png',\n",
       " 'C103P64ThinF_IMG_20150918_164250_cell_128.png',\n",
       " 'C103P64ThinF_IMG_20150918_164250_cell_15.png',\n",
       " 'C103P64ThinF_IMG_20150918_164250_cell_153.png',\n",
       " 'C103P64ThinF_IMG_20150918_164250_cell_164.png',\n",
       " 'C103P64ThinF_IMG_20150918_164250_cell_19.png',\n",
       " 'C103P64ThinF_IMG_20150918_164250_cell_28.png',\n",
       " 'C103P64ThinF_IMG_20150918_164250_cell_39.png',\n",
       " 'C103P64ThinF_IMG_20150918_164250_cell_67.png',\n",
       " 'C103P64ThinF_IMG_20150918_164250_cell_74.png',\n",
       " 'C103P64ThinF_IMG_20150918_164250_cell_85.png',\n",
       " 'C103P64ThinF_IMG_20150918_164331_cell_116.png',\n",
       " 'C103P64ThinF_IMG_20150918_164331_cell_119.png',\n",
       " 'C103P64ThinF_IMG_20150918_164331_cell_129.png',\n",
       " 'C103P64ThinF_IMG_20150918_164331_cell_153.png',\n",
       " 'C103P64ThinF_IMG_20150918_164331_cell_172.png',\n",
       " 'C103P64ThinF_IMG_20150918_164331_cell_27.png',\n",
       " 'C103P64ThinF_IMG_20150918_164331_cell_3.png',\n",
       " 'C103P64ThinF_IMG_20150918_164331_cell_35.png',\n",
       " 'C103P64ThinF_IMG_20150918_164331_cell_87.png',\n",
       " 'C103P64ThinF_IMG_20150918_164553_cell_133.png',\n",
       " 'C103P64ThinF_IMG_20150918_164553_cell_145.png',\n",
       " 'C103P64ThinF_IMG_20150918_164553_cell_148.png',\n",
       " 'C103P64ThinF_IMG_20150918_164553_cell_155.png',\n",
       " 'C103P64ThinF_IMG_20150918_164553_cell_160.png',\n",
       " 'C103P64ThinF_IMG_20150918_164553_cell_35.png',\n",
       " 'C103P64ThinF_IMG_20150918_164553_cell_42.png',\n",
       " 'C103P64ThinF_IMG_20150918_164553_cell_45.png',\n",
       " 'C103P64ThinF_IMG_20150918_164553_cell_46.png',\n",
       " 'C103P64ThinF_IMG_20150918_164553_cell_54.png',\n",
       " 'C103P64ThinF_IMG_20150918_164553_cell_80.png',\n",
       " 'C103P64ThinF_IMG_20150918_165016_cell_107.png',\n",
       " 'C103P64ThinF_IMG_20150918_165016_cell_11.png',\n",
       " 'C103P64ThinF_IMG_20150918_165016_cell_130.png',\n",
       " 'C103P64ThinF_IMG_20150918_165016_cell_139.png',\n",
       " 'C103P64ThinF_IMG_20150918_165016_cell_3.png',\n",
       " 'C103P64ThinF_IMG_20150918_165016_cell_31.png',\n",
       " 'C103P64ThinF_IMG_20150918_165016_cell_34.png',\n",
       " 'C103P64ThinF_IMG_20150918_165016_cell_77.png',\n",
       " 'C103P64ThinF_IMG_20150918_165016_cell_84.png',\n",
       " 'C103P64ThinF_IMG_20150918_165016_cell_92.png',\n",
       " 'C103P64ThinF_IMG_20150918_165125_cell_105.png',\n",
       " 'C103P64ThinF_IMG_20150918_165125_cell_106.png',\n",
       " 'C103P64ThinF_IMG_20150918_165125_cell_117.png',\n",
       " 'C103P64ThinF_IMG_20150918_165125_cell_12.png',\n",
       " 'C103P64ThinF_IMG_20150918_165125_cell_121.png',\n",
       " 'C103P64ThinF_IMG_20150918_165125_cell_132.png',\n",
       " 'C103P64ThinF_IMG_20150918_165125_cell_138.png',\n",
       " 'C103P64ThinF_IMG_20150918_165125_cell_143.png',\n",
       " 'C103P64ThinF_IMG_20150918_165125_cell_149.png',\n",
       " 'C103P64ThinF_IMG_20150918_165125_cell_156.png',\n",
       " 'C103P64ThinF_IMG_20150918_165125_cell_87.png',\n",
       " 'C103P64ThinF_IMG_20150918_165510_cell_130.png',\n",
       " 'C103P64ThinF_IMG_20150918_165510_cell_138.png',\n",
       " 'C103P64ThinF_IMG_20150918_165510_cell_14.png',\n",
       " 'C103P64ThinF_IMG_20150918_165510_cell_146.png',\n",
       " 'C103P64ThinF_IMG_20150918_165510_cell_161.png',\n",
       " 'C103P64ThinF_IMG_20150918_165510_cell_163.png',\n",
       " 'C103P64ThinF_IMG_20150918_165510_cell_28.png',\n",
       " 'C103P64ThinF_IMG_20150918_165510_cell_65.png',\n",
       " 'C103P64ThinF_IMG_20150918_165510_cell_67.png',\n",
       " 'C103P64ThinF_IMG_20150918_165510_cell_94.png',\n",
       " 'C104P65ThinF_IMG_20150918_170850_cell_140.png',\n",
       " 'C104P65ThinF_IMG_20150918_170850_cell_167.png',\n",
       " 'C104P65ThinF_IMG_20150918_170850_cell_174.png',\n",
       " 'C104P65ThinF_IMG_20150918_170850_cell_189.png',\n",
       " 'C104P65ThinF_IMG_20150918_170850_cell_29.png',\n",
       " 'C104P65ThinF_IMG_20150918_170850_cell_32.png',\n",
       " 'C104P65ThinF_IMG_20150918_170850_cell_66.png',\n",
       " 'C104P65ThinF_IMG_20150918_170850_cell_68.png',\n",
       " 'C104P65ThinF_IMG_20150918_170850_cell_83.png',\n",
       " 'C104P65ThinF_IMG_20150918_171154_cell_141.png',\n",
       " 'C104P65ThinF_IMG_20150918_171154_cell_144.png',\n",
       " 'C104P65ThinF_IMG_20150918_171154_cell_154.png',\n",
       " 'C104P65ThinF_IMG_20150918_171154_cell_163.png',\n",
       " 'C104P65ThinF_IMG_20150918_171154_cell_190.png',\n",
       " 'C104P65ThinF_IMG_20150918_171154_cell_3.png',\n",
       " 'C104P65ThinF_IMG_20150918_171154_cell_4.png',\n",
       " 'C104P65ThinF_IMG_20150918_171154_cell_88.png',\n",
       " 'C104P65ThinF_IMG_20150918_171154_cell_93.png',\n",
       " 'C104P65ThinF_IMG_20150918_171751_cell_102.png',\n",
       " 'C104P65ThinF_IMG_20150918_171751_cell_105.png',\n",
       " 'C104P65ThinF_IMG_20150918_171751_cell_106.png',\n",
       " 'C104P65ThinF_IMG_20150918_171751_cell_109.png',\n",
       " 'C104P65ThinF_IMG_20150918_171751_cell_113.png',\n",
       " 'C104P65ThinF_IMG_20150918_171751_cell_175.png',\n",
       " 'C104P65ThinF_IMG_20150918_171751_cell_31.png',\n",
       " 'C104P65ThinF_IMG_20150918_171751_cell_49.png',\n",
       " 'C104P65ThinF_IMG_20150918_171751_cell_54.png',\n",
       " 'C104P65ThinF_IMG_20150918_172053_cell_114.png',\n",
       " 'C104P65ThinF_IMG_20150918_172053_cell_159.png',\n",
       " 'C104P65ThinF_IMG_20150918_172053_cell_160.png',\n",
       " 'C104P65ThinF_IMG_20150918_172053_cell_17.png',\n",
       " 'C104P65ThinF_IMG_20150918_172053_cell_184.png',\n",
       " 'C104P65ThinF_IMG_20150918_172053_cell_31.png',\n",
       " 'C104P65ThinF_IMG_20150918_172053_cell_35.png',\n",
       " 'C104P65ThinF_IMG_20150918_172053_cell_98.png',\n",
       " 'C104P65ThinF_IMG_20150918_172214_cell_1.png',\n",
       " 'C104P65ThinF_IMG_20150918_172214_cell_134.png',\n",
       " 'C104P65ThinF_IMG_20150918_172214_cell_147.png',\n",
       " 'C104P65ThinF_IMG_20150918_172214_cell_153.png',\n",
       " 'C104P65ThinF_IMG_20150918_172214_cell_25.png',\n",
       " 'C104P65ThinF_IMG_20150918_172214_cell_27.png',\n",
       " 'C104P65ThinF_IMG_20150918_172214_cell_50.png',\n",
       " 'C104P65ThinF_IMG_20150918_172214_cell_66.png',\n",
       " 'C104P65ThinF_IMG_20150918_172214_cell_91.png',\n",
       " 'C104P65ThinF_IMG_20150918_172214_cell_99.png',\n",
       " 'C104P65ThinF_IMG_20150918_172247_cell_1.png',\n",
       " 'C104P65ThinF_IMG_20150918_172247_cell_12.png',\n",
       " 'C104P65ThinF_IMG_20150918_172247_cell_125.png',\n",
       " 'C104P65ThinF_IMG_20150918_172247_cell_126.png',\n",
       " 'C104P65ThinF_IMG_20150918_172247_cell_135.png',\n",
       " 'C104P65ThinF_IMG_20150918_172247_cell_145.png',\n",
       " 'C104P65ThinF_IMG_20150918_172247_cell_158.png',\n",
       " 'C104P65ThinF_IMG_20150918_172247_cell_69.png',\n",
       " 'C104P65ThinF_IMG_20150918_172247_cell_85.png',\n",
       " 'C104P65ThinF_IMG_20150918_172537_cell_107.png',\n",
       " 'C104P65ThinF_IMG_20150918_172537_cell_111.png',\n",
       " 'C104P65ThinF_IMG_20150918_172537_cell_126.png',\n",
       " 'C104P65ThinF_IMG_20150918_172537_cell_132.png',\n",
       " 'C104P65ThinF_IMG_20150918_172537_cell_133.png',\n",
       " 'C104P65ThinF_IMG_20150918_172537_cell_53.png',\n",
       " 'C104P65ThinF_IMG_20150918_172537_cell_67.png',\n",
       " 'C104P65ThinF_IMG_20150918_172537_cell_75.png',\n",
       " 'C104P65ThinF_IMG_20150918_172639_cell_120.png',\n",
       " 'C104P65ThinF_IMG_20150918_172639_cell_144.png',\n",
       " 'C104P65ThinF_IMG_20150918_172639_cell_167.png',\n",
       " 'C104P65ThinF_IMG_20150918_172639_cell_34.png',\n",
       " 'C104P65ThinF_IMG_20150918_172639_cell_44.png',\n",
       " 'C104P65ThinF_IMG_20150918_172639_cell_93.png',\n",
       " 'C104P65ThinF_IMG_20150918_172639_cell_95.png',\n",
       " 'C105P66ThinF_IMG_20150924_094800_cell_132.png',\n",
       " 'C105P66ThinF_IMG_20150924_094800_cell_30.png',\n",
       " 'C105P66ThinF_IMG_20150924_094800_cell_39.png',\n",
       " 'C105P66ThinF_IMG_20150924_094800_cell_62.png',\n",
       " 'C105P66ThinF_IMG_20150924_094800_cell_63.png',\n",
       " 'C105P66ThinF_IMG_20150924_094800_cell_70.png',\n",
       " 'C105P66ThinF_IMG_20150924_094800_cell_74.png',\n",
       " 'C105P66ThinF_IMG_20150924_094800_cell_90.png',\n",
       " 'C105P66ThinF_IMG_20150924_094944_cell_14.png',\n",
       " 'C105P66ThinF_IMG_20150924_094944_cell_19.png',\n",
       " 'C105P66ThinF_IMG_20150924_094944_cell_25.png',\n",
       " 'C105P66ThinF_IMG_20150924_094944_cell_3.png',\n",
       " 'C105P66ThinF_IMG_20150924_094944_cell_37.png',\n",
       " 'C105P66ThinF_IMG_20150924_094944_cell_41.png',\n",
       " 'C105P66ThinF_IMG_20150924_094944_cell_72.png',\n",
       " 'C105P66ThinF_IMG_20150924_095034_cell_1.png',\n",
       " 'C105P66ThinF_IMG_20150924_095034_cell_105.png',\n",
       " 'C105P66ThinF_IMG_20150924_095034_cell_112.png',\n",
       " 'C105P66ThinF_IMG_20150924_095034_cell_127.png',\n",
       " 'C105P66ThinF_IMG_20150924_095034_cell_133.png',\n",
       " 'C105P66ThinF_IMG_20150924_095034_cell_23.png',\n",
       " 'C105P66ThinF_IMG_20150924_095034_cell_29.png',\n",
       " 'C105P66ThinF_IMG_20150924_095034_cell_53.png',\n",
       " 'C105P66ThinF_IMG_20150924_095034_cell_75.png',\n",
       " 'C105P66ThinF_IMG_20150924_095130_cell_108.png',\n",
       " 'C105P66ThinF_IMG_20150924_095130_cell_148.png',\n",
       " 'C105P66ThinF_IMG_20150924_095130_cell_23.png',\n",
       " 'C105P66ThinF_IMG_20150924_095130_cell_4.png',\n",
       " 'C105P66ThinF_IMG_20150924_095130_cell_44.png',\n",
       " 'C105P66ThinF_IMG_20150924_095130_cell_58.png',\n",
       " 'C105P66ThinF_IMG_20150924_095130_cell_97.png',\n",
       " 'C105P66ThinF_IMG_20150924_095633_cell_104.png',\n",
       " 'C105P66ThinF_IMG_20150924_095633_cell_111.png',\n",
       " 'C105P66ThinF_IMG_20150924_095633_cell_2.png',\n",
       " 'C105P66ThinF_IMG_20150924_095633_cell_4.png',\n",
       " 'C105P66ThinF_IMG_20150924_095633_cell_5.png',\n",
       " 'C105P66ThinF_IMG_20150924_095633_cell_71.png',\n",
       " 'C105P66ThinF_IMG_20150924_095633_cell_82.png',\n",
       " 'C105P66ThinF_IMG_20150924_095633_cell_87.png',\n",
       " 'C105P66ThinF_IMG_20150924_095716_cell_3.png',\n",
       " 'C105P66ThinF_IMG_20150924_095716_cell_41.png',\n",
       " 'C105P66ThinF_IMG_20150924_095716_cell_49.png',\n",
       " 'C105P66ThinF_IMG_20150924_095716_cell_56.png',\n",
       " 'C105P66ThinF_IMG_20150924_095716_cell_57.png',\n",
       " 'C105P66ThinF_IMG_20150924_095716_cell_98.png',\n",
       " 'C105P66ThinF_IMG_20150924_095913_cell_2.png',\n",
       " 'C105P66ThinF_IMG_20150924_095913_cell_36.png',\n",
       " 'C105P66ThinF_IMG_20150924_095913_cell_50.png',\n",
       " 'C105P66ThinF_IMG_20150924_095913_cell_65.png',\n",
       " 'C105P66ThinF_IMG_20150924_095913_cell_7.png',\n",
       " 'C105P66ThinF_IMG_20150924_095913_cell_84.png',\n",
       " 'C105P66ThinF_IMG_20150924_095913_cell_88.png',\n",
       " 'C105P66ThinF_IMG_20150924_095913_cell_91.png',\n",
       " 'C105P66ThinF_IMG_20150924_095913_cell_98.png',\n",
       " 'C105P66ThinF_IMG_20150924_100655_cell_109.png',\n",
       " 'C105P66ThinF_IMG_20150924_100655_cell_33.png',\n",
       " 'C105P66ThinF_IMG_20150924_100655_cell_64.png',\n",
       " 'C105P66ThinF_IMG_20150924_100655_cell_75.png',\n",
       " 'C105P66ThinF_IMG_20150924_100655_cell_80.png',\n",
       " 'C105P66ThinF_IMG_20150924_100655_cell_81.png',\n",
       " 'C105P66ThinF_IMG_20150924_100655_cell_93.png',\n",
       " 'C105P66ThinF_IMG_20150924_100655_cell_96.png',\n",
       " 'C106P67ThinF_IMG_20150924_102245_cell_123.png',\n",
       " 'C106P67ThinF_IMG_20150924_102245_cell_149.png',\n",
       " 'C106P67ThinF_IMG_20150924_102245_cell_152.png',\n",
       " 'C106P67ThinF_IMG_20150924_102245_cell_30.png',\n",
       " 'C106P67ThinF_IMG_20150924_102245_cell_44.png',\n",
       " 'C106P67ThinF_IMG_20150924_102245_cell_63.png',\n",
       " 'C106P67ThinF_IMG_20150924_102245_cell_64.png',\n",
       " 'C106P67ThinF_IMG_20150924_102245_cell_69.png',\n",
       " 'C106P67ThinF_IMG_20150924_102245_cell_76.png',\n",
       " 'C106P67ThinF_IMG_20150924_102245_cell_86.png',\n",
       " 'C106P67ThinF_IMG_20150924_102413_cell_114.png',\n",
       " 'C106P67ThinF_IMG_20150924_102413_cell_121.png',\n",
       " 'C106P67ThinF_IMG_20150924_102413_cell_129.png',\n",
       " 'C106P67ThinF_IMG_20150924_102413_cell_175.png',\n",
       " 'C106P67ThinF_IMG_20150924_102413_cell_176.png',\n",
       " 'C106P67ThinF_IMG_20150924_102413_cell_24.png',\n",
       " 'C106P67ThinF_IMG_20150924_102413_cell_49.png',\n",
       " 'C106P67ThinF_IMG_20150924_102413_cell_9.png',\n",
       " 'C106P67ThinF_IMG_20150924_102826_cell_1.png',\n",
       " 'C106P67ThinF_IMG_20150924_102826_cell_108.png',\n",
       " 'C106P67ThinF_IMG_20150924_102826_cell_137.png',\n",
       " 'C106P67ThinF_IMG_20150924_102826_cell_140.png',\n",
       " 'C106P67ThinF_IMG_20150924_102826_cell_39.png',\n",
       " 'C106P67ThinF_IMG_20150924_102826_cell_46.png',\n",
       " 'C106P67ThinF_IMG_20150924_102826_cell_76.png',\n",
       " 'C106P67ThinF_IMG_20150924_102826_cell_85.png',\n",
       " 'C106P67ThinF_IMG_20150924_102826_cell_91.png',\n",
       " 'C106P67ThinF_IMG_20150924_103245_cell_109.png',\n",
       " 'C106P67ThinF_IMG_20150924_103245_cell_110.png',\n",
       " 'C106P67ThinF_IMG_20150924_103245_cell_127.png',\n",
       " 'C106P67ThinF_IMG_20150924_103245_cell_142.png',\n",
       " 'C106P67ThinF_IMG_20150924_103245_cell_26.png',\n",
       " 'C106P67ThinF_IMG_20150924_103245_cell_32.png',\n",
       " 'C106P67ThinF_IMG_20150924_103636_cell_10.png',\n",
       " 'C106P67ThinF_IMG_20150924_103636_cell_108.png',\n",
       " 'C106P67ThinF_IMG_20150924_103636_cell_149.png',\n",
       " 'C106P67ThinF_IMG_20150924_103636_cell_162.png',\n",
       " 'C106P67ThinF_IMG_20150924_103636_cell_163.png',\n",
       " 'C106P67ThinF_IMG_20150924_103636_cell_65.png',\n",
       " 'C106P67ThinF_IMG_20150924_103636_cell_7.png',\n",
       " 'C106P67ThinF_IMG_20150924_103636_cell_94.png',\n",
       " 'C106P67ThinF_IMG_20150924_103636_cell_99.png',\n",
       " 'C106P67ThinF_IMG_20150924_103811_cell_107.png',\n",
       " 'C106P67ThinF_IMG_20150924_103811_cell_123.png',\n",
       " 'C106P67ThinF_IMG_20150924_103811_cell_132.png',\n",
       " 'C106P67ThinF_IMG_20150924_103811_cell_137.png',\n",
       " 'C106P67ThinF_IMG_20150924_103811_cell_56.png',\n",
       " 'C106P67ThinF_IMG_20150924_103811_cell_70.png',\n",
       " 'C106P67ThinF_IMG_20150924_103811_cell_9.png',\n",
       " 'C106P67ThinF_IMG_20150924_104044_cell_115.png',\n",
       " 'C106P67ThinF_IMG_20150924_104044_cell_144.png',\n",
       " 'C106P67ThinF_IMG_20150924_104044_cell_159.png',\n",
       " 'C106P67ThinF_IMG_20150924_104044_cell_164.png',\n",
       " 'C106P67ThinF_IMG_20150924_104044_cell_26.png',\n",
       " 'C106P67ThinF_IMG_20150924_104044_cell_40.png',\n",
       " 'C106P67ThinF_IMG_20150924_104044_cell_49.png',\n",
       " 'C106P67ThinF_IMG_20150924_104044_cell_67.png',\n",
       " 'C106P67ThinF_IMG_20150924_104044_cell_90.png',\n",
       " 'C107P68ThinF_IMG_20150924_221632_cell_11.png',\n",
       " 'C107P68ThinF_IMG_20150924_221632_cell_23.png',\n",
       " 'C107P68ThinF_IMG_20150924_221632_cell_31.png',\n",
       " 'C107P68ThinF_IMG_20150924_221632_cell_33.png',\n",
       " 'C107P68ThinF_IMG_20150924_221632_cell_35.png',\n",
       " 'C107P68ThinF_IMG_20150924_221632_cell_40.png',\n",
       " 'C107P68ThinF_IMG_20150924_221632_cell_42.png',\n",
       " 'C107P68ThinF_IMG_20150924_221632_cell_61.png',\n",
       " 'C107P68ThinF_IMG_20150924_221632_cell_69.png',\n",
       " 'C107P68ThinF_IMG_20150924_221632_cell_96.png',\n",
       " 'C107P68ThinF_IMG_20150924_221909_cell_102.png',\n",
       " 'C107P68ThinF_IMG_20150924_221909_cell_113.png',\n",
       " 'C107P68ThinF_IMG_20150924_221909_cell_122.png',\n",
       " 'C107P68ThinF_IMG_20150924_221909_cell_34.png',\n",
       " 'C107P68ThinF_IMG_20150924_221909_cell_41.png',\n",
       " 'C107P68ThinF_IMG_20150924_221909_cell_61.png',\n",
       " 'C107P68ThinF_IMG_20150924_221909_cell_66.png',\n",
       " 'C107P68ThinF_IMG_20150924_221909_cell_69.png',\n",
       " 'C107P68ThinF_IMG_20150924_221909_cell_9.png',\n",
       " 'C107P68ThinF_IMG_20150924_222233_cell_109.png',\n",
       " 'C107P68ThinF_IMG_20150924_222233_cell_138.png',\n",
       " 'C107P68ThinF_IMG_20150924_222233_cell_20.png',\n",
       " 'C107P68ThinF_IMG_20150924_222233_cell_30.png',\n",
       " 'C107P68ThinF_IMG_20150924_222233_cell_36.png',\n",
       " 'C107P68ThinF_IMG_20150924_222233_cell_66.png',\n",
       " 'C107P68ThinF_IMG_20150924_222233_cell_77.png',\n",
       " 'C107P68ThinF_IMG_20150924_222233_cell_81.png',\n",
       " 'C107P68ThinF_IMG_20150924_222233_cell_89.png',\n",
       " 'C107P68ThinF_IMG_20150924_222233_cell_93.png',\n",
       " 'C107P68ThinF_IMG_20150924_222415_cell_1.png',\n",
       " 'C107P68ThinF_IMG_20150924_222415_cell_102.png',\n",
       " 'C107P68ThinF_IMG_20150924_222415_cell_121.png',\n",
       " 'C107P68ThinF_IMG_20150924_222415_cell_147.png',\n",
       " 'C107P68ThinF_IMG_20150924_222415_cell_164.png',\n",
       " 'C107P68ThinF_IMG_20150924_222415_cell_61.png',\n",
       " 'C107P68ThinF_IMG_20150924_222415_cell_63.png',\n",
       " 'C107P68ThinF_IMG_20150924_222415_cell_7.png',\n",
       " 'C107P68ThinF_IMG_20150924_222415_cell_90.png',\n",
       " 'C107P68ThinF_IMG_20150924_222535_cell_123.png',\n",
       " 'C107P68ThinF_IMG_20150924_222535_cell_13.png',\n",
       " 'C107P68ThinF_IMG_20150924_222535_cell_38.png',\n",
       " 'C107P68ThinF_IMG_20150924_222535_cell_55.png',\n",
       " 'C107P68ThinF_IMG_20150924_222535_cell_57.png',\n",
       " 'C107P68ThinF_IMG_20150924_222535_cell_59.png',\n",
       " 'C107P68ThinF_IMG_20150924_222535_cell_70.png',\n",
       " 'C107P68ThinF_IMG_20150924_222535_cell_84.png',\n",
       " 'C107P68ThinF_IMG_20150924_222535_cell_85.png',\n",
       " 'C107P68ThinF_IMG_20150924_222535_cell_88.png',\n",
       " 'C107P68ThinF_IMG_20150924_222630_cell_105.png',\n",
       " 'C107P68ThinF_IMG_20150924_222630_cell_12.png',\n",
       " 'C107P68ThinF_IMG_20150924_222630_cell_123.png',\n",
       " 'C107P68ThinF_IMG_20150924_222630_cell_129.png',\n",
       " 'C107P68ThinF_IMG_20150924_222630_cell_143.png',\n",
       " 'C107P68ThinF_IMG_20150924_222630_cell_151.png',\n",
       " 'C107P68ThinF_IMG_20150924_222630_cell_169.png',\n",
       " 'C107P68ThinF_IMG_20150924_222630_cell_170.png',\n",
       " 'C107P68ThinF_IMG_20150924_222630_cell_23.png',\n",
       " 'C107P68ThinF_IMG_20150924_222630_cell_50.png',\n",
       " 'C107P68ThinF_IMG_20150924_222630_cell_74.png',\n",
       " 'C108P69ThinF_IMG_20150924_223834_cell_117.png',\n",
       " 'C108P69ThinF_IMG_20150924_223834_cell_136.png',\n",
       " 'C108P69ThinF_IMG_20150924_223834_cell_154.png',\n",
       " 'C108P69ThinF_IMG_20150924_223834_cell_179.png',\n",
       " 'C108P69ThinF_IMG_20150924_223834_cell_204.png',\n",
       " 'C108P69ThinF_IMG_20150924_223834_cell_22.png',\n",
       " 'C108P69ThinF_IMG_20150924_223834_cell_39.png',\n",
       " 'C108P69ThinF_IMG_20150924_223834_cell_44.png',\n",
       " 'C108P69ThinF_IMG_20150924_223834_cell_52.png',\n",
       " 'C108P69ThinF_IMG_20150924_223834_cell_71.png',\n",
       " 'C108P69ThinF_IMG_20150924_224038_cell_121.png',\n",
       " 'C108P69ThinF_IMG_20150924_224038_cell_124.png',\n",
       " 'C108P69ThinF_IMG_20150924_224038_cell_174.png',\n",
       " 'C108P69ThinF_IMG_20150924_224038_cell_186.png',\n",
       " 'C108P69ThinF_IMG_20150924_224038_cell_25.png',\n",
       " 'C108P69ThinF_IMG_20150924_224038_cell_36.png',\n",
       " 'C108P69ThinF_IMG_20150924_224038_cell_49.png',\n",
       " 'C108P69ThinF_IMG_20150924_224038_cell_6.png',\n",
       " 'C108P69ThinF_IMG_20150924_224038_cell_85.png',\n",
       " 'C108P69ThinF_IMG_20150924_224616_cell_1.png',\n",
       " 'C108P69ThinF_IMG_20150924_224616_cell_102.png',\n",
       " 'C108P69ThinF_IMG_20150924_224616_cell_115.png',\n",
       " 'C108P69ThinF_IMG_20150924_224616_cell_14.png',\n",
       " 'C108P69ThinF_IMG_20150924_224616_cell_163.png',\n",
       " 'C108P69ThinF_IMG_20150924_224616_cell_171.png',\n",
       " 'C108P69ThinF_IMG_20150924_224616_cell_193.png',\n",
       " 'C108P69ThinF_IMG_20150924_224616_cell_45.png',\n",
       " 'C108P69ThinF_IMG_20150924_224616_cell_48.png',\n",
       " 'C108P69ThinF_IMG_20150924_224616_cell_54.png',\n",
       " 'C108P69ThinF_IMG_20150924_224616_cell_77.png',\n",
       " 'C108P69ThinF_IMG_20150924_224616_cell_79.png',\n",
       " 'C108P69ThinF_IMG_20150924_224616_cell_90.png',\n",
       " 'C108P69ThinF_IMG_20150924_224909_cell_133.png',\n",
       " 'C108P69ThinF_IMG_20150924_224909_cell_15.png',\n",
       " 'C108P69ThinF_IMG_20150924_224909_cell_168.png',\n",
       " 'C108P69ThinF_IMG_20150924_224909_cell_192.png',\n",
       " 'C108P69ThinF_IMG_20150924_224909_cell_210.png',\n",
       " 'C108P69ThinF_IMG_20150924_224909_cell_215.png',\n",
       " 'C108P69ThinF_IMG_20150924_224909_cell_223.png',\n",
       " 'C108P69ThinF_IMG_20150924_224909_cell_47.png',\n",
       " 'C108P69ThinF_IMG_20150924_225004_cell_109.png',\n",
       " 'C108P69ThinF_IMG_20150924_225004_cell_114.png',\n",
       " 'C108P69ThinF_IMG_20150924_225004_cell_196.png',\n",
       " 'C108P69ThinF_IMG_20150924_225004_cell_20.png',\n",
       " 'C108P69ThinF_IMG_20150924_225004_cell_212.png',\n",
       " 'C108P69ThinF_IMG_20150924_225004_cell_25.png',\n",
       " 'C108P69ThinF_IMG_20150924_225004_cell_39.png',\n",
       " 'C108P69ThinF_IMG_20150924_225004_cell_45.png',\n",
       " 'C108P69ThinF_IMG_20150924_225004_cell_46.png',\n",
       " 'C108P69ThinF_IMG_20150924_225004_cell_57.png',\n",
       " 'C108P69ThinF_IMG_20150924_225004_cell_8.png',\n",
       " 'C108P69ThinF_IMG_20150924_225511_cell_1.png',\n",
       " 'C108P69ThinF_IMG_20150924_225511_cell_10.png',\n",
       " 'C108P69ThinF_IMG_20150924_225511_cell_128.png',\n",
       " 'C108P69ThinF_IMG_20150924_225511_cell_135.png',\n",
       " 'C108P69ThinF_IMG_20150924_225511_cell_139.png',\n",
       " 'C108P69ThinF_IMG_20150924_225511_cell_145.png',\n",
       " 'C108P69ThinF_IMG_20150924_225511_cell_159.png',\n",
       " 'C108P69ThinF_IMG_20150924_225511_cell_160.png',\n",
       " 'C108P69ThinF_IMG_20150924_225511_cell_180.png',\n",
       " 'C108P69ThinF_IMG_20150924_225511_cell_24.png',\n",
       " 'C108P69ThinF_IMG_20150924_225511_cell_99.png',\n",
       " 'C109P70ThinF_IMG_20150930_102716_cell_162.png',\n",
       " 'C109P70ThinF_IMG_20150930_102716_cell_183.png',\n",
       " 'C109P70ThinF_IMG_20150930_102716_cell_30.png',\n",
       " 'C109P70ThinF_IMG_20150930_102716_cell_46.png',\n",
       " 'C109P70ThinF_IMG_20150930_102716_cell_49.png',\n",
       " 'C109P70ThinF_IMG_20150930_102716_cell_63.png',\n",
       " 'C109P70ThinF_IMG_20150930_102716_cell_86.png',\n",
       " 'C109P70ThinF_IMG_20150930_102716_cell_90.png',\n",
       " 'C109P70ThinF_IMG_20150930_102812_cell_135.png',\n",
       " 'C109P70ThinF_IMG_20150930_102812_cell_136.png',\n",
       " 'C109P70ThinF_IMG_20150930_102812_cell_154.png',\n",
       " 'C109P70ThinF_IMG_20150930_102812_cell_164.png',\n",
       " 'C109P70ThinF_IMG_20150930_102812_cell_36.png',\n",
       " 'C109P70ThinF_IMG_20150930_102812_cell_45.png',\n",
       " 'C109P70ThinF_IMG_20150930_102812_cell_50.png',\n",
       " 'C109P70ThinF_IMG_20150930_102812_cell_51.png',\n",
       " 'C109P70ThinF_IMG_20150930_102812_cell_67.png',\n",
       " 'C109P70ThinF_IMG_20150930_102812_cell_72.png',\n",
       " 'C109P70ThinF_IMG_20150930_102944_cell_121.png',\n",
       " 'C109P70ThinF_IMG_20150930_102944_cell_127.png',\n",
       " 'C109P70ThinF_IMG_20150930_102944_cell_138.png',\n",
       " 'C109P70ThinF_IMG_20150930_102944_cell_148.png',\n",
       " 'C109P70ThinF_IMG_20150930_102944_cell_152.png',\n",
       " 'C109P70ThinF_IMG_20150930_102944_cell_155.png',\n",
       " 'C109P70ThinF_IMG_20150930_102944_cell_33.png',\n",
       " 'C109P70ThinF_IMG_20150930_102944_cell_46.png',\n",
       " 'C109P70ThinF_IMG_20150930_102944_cell_70.png',\n",
       " 'C109P70ThinF_IMG_20150930_103113_cell_103.png',\n",
       " 'C109P70ThinF_IMG_20150930_103113_cell_104.png',\n",
       " 'C109P70ThinF_IMG_20150930_103113_cell_136.png',\n",
       " 'C109P70ThinF_IMG_20150930_103113_cell_137.png',\n",
       " 'C109P70ThinF_IMG_20150930_103113_cell_15.png',\n",
       " 'C109P70ThinF_IMG_20150930_103113_cell_3.png',\n",
       " 'C109P70ThinF_IMG_20150930_103113_cell_56.png',\n",
       " 'C109P70ThinF_IMG_20150930_103214_cell_124.png',\n",
       " 'C109P70ThinF_IMG_20150930_103214_cell_14.png',\n",
       " 'C109P70ThinF_IMG_20150930_103214_cell_148.png',\n",
       " 'C109P70ThinF_IMG_20150930_103214_cell_161.png',\n",
       " 'C109P70ThinF_IMG_20150930_103214_cell_38.png',\n",
       " 'C109P70ThinF_IMG_20150930_103214_cell_54.png',\n",
       " 'C109P70ThinF_IMG_20150930_103214_cell_75.png',\n",
       " 'C109P70ThinF_IMG_20150930_103214_cell_83.png',\n",
       " 'C109P70ThinF_IMG_20150930_103214_cell_85.png',\n",
       " 'C109P70ThinF_IMG_20150930_103645_cell_10.png',\n",
       " 'C109P70ThinF_IMG_20150930_103645_cell_146.png',\n",
       " 'C109P70ThinF_IMG_20150930_103645_cell_155.png',\n",
       " 'C109P70ThinF_IMG_20150930_103645_cell_165.png',\n",
       " 'C109P70ThinF_IMG_20150930_103645_cell_167.png',\n",
       " 'C109P70ThinF_IMG_20150930_103645_cell_25.png',\n",
       " 'C109P70ThinF_IMG_20150930_103645_cell_76.png',\n",
       " 'C109P70ThinF_IMG_20150930_103645_cell_87.png',\n",
       " 'C109P70ThinF_IMG_20150930_103811_cell_104.png',\n",
       " 'C109P70ThinF_IMG_20150930_103811_cell_114.png',\n",
       " 'C109P70ThinF_IMG_20150930_103811_cell_126.png',\n",
       " 'C109P70ThinF_IMG_20150930_103811_cell_130.png',\n",
       " 'C109P70ThinF_IMG_20150930_103811_cell_31.png',\n",
       " 'C109P70ThinF_IMG_20150930_103811_cell_37.png',\n",
       " 'C109P70ThinF_IMG_20150930_103811_cell_63.png',\n",
       " 'C109P70ThinF_IMG_20150930_103811_cell_65.png',\n",
       " 'C109P70ThinF_IMG_20150930_103811_cell_66.png',\n",
       " 'C109P70ThinF_IMG_20150930_103811_cell_71.png',\n",
       " 'C110P71ThinF_IMG_20150930_105319_cell_103.png',\n",
       " 'C110P71ThinF_IMG_20150930_105319_cell_135.png',\n",
       " 'C110P71ThinF_IMG_20150930_105319_cell_137.png',\n",
       " 'C110P71ThinF_IMG_20150930_105319_cell_144.png',\n",
       " 'C110P71ThinF_IMG_20150930_105319_cell_145.png',\n",
       " 'C110P71ThinF_IMG_20150930_105319_cell_158.png',\n",
       " 'C110P71ThinF_IMG_20150930_105319_cell_163.png',\n",
       " 'C110P71ThinF_IMG_20150930_105319_cell_37.png',\n",
       " 'C110P71ThinF_IMG_20150930_105319_cell_5.png',\n",
       " 'C110P71ThinF_IMG_20150930_105319_cell_94.png',\n",
       " 'C110P71ThinF_IMG_20150930_105319_cell_97.png',\n",
       " 'C110P71ThinF_IMG_20150930_105559_cell_115.png',\n",
       " 'C110P71ThinF_IMG_20150930_105559_cell_137.png',\n",
       " 'C110P71ThinF_IMG_20150930_105559_cell_147.png',\n",
       " 'C110P71ThinF_IMG_20150930_105559_cell_156.png',\n",
       " 'C110P71ThinF_IMG_20150930_105559_cell_185.png',\n",
       " 'C110P71ThinF_IMG_20150930_105559_cell_186.png',\n",
       " 'C110P71ThinF_IMG_20150930_105559_cell_192.png',\n",
       " 'C110P71ThinF_IMG_20150930_105559_cell_45.png',\n",
       " 'C110P71ThinF_IMG_20150930_105559_cell_97.png',\n",
       " 'C110P71ThinF_IMG_20150930_105729_cell_117.png',\n",
       " 'C110P71ThinF_IMG_20150930_105729_cell_121.png',\n",
       " 'C110P71ThinF_IMG_20150930_105729_cell_156.png',\n",
       " 'C110P71ThinF_IMG_20150930_105729_cell_162.png',\n",
       " 'C110P71ThinF_IMG_20150930_105729_cell_167.png',\n",
       " 'C110P71ThinF_IMG_20150930_105729_cell_18.png',\n",
       " 'C110P71ThinF_IMG_20150930_105729_cell_201.png',\n",
       " 'C110P71ThinF_IMG_20150930_105729_cell_206.png',\n",
       " 'C110P71ThinF_IMG_20150930_105729_cell_33.png',\n",
       " 'C110P71ThinF_IMG_20150930_105925_cell_111.png',\n",
       " 'C110P71ThinF_IMG_20150930_105925_cell_12.png',\n",
       " 'C110P71ThinF_IMG_20150930_105925_cell_120.png',\n",
       " 'C110P71ThinF_IMG_20150930_105925_cell_124.png',\n",
       " 'C110P71ThinF_IMG_20150930_105925_cell_163.png',\n",
       " 'C110P71ThinF_IMG_20150930_105925_cell_209.png',\n",
       " 'C110P71ThinF_IMG_20150930_105925_cell_28.png',\n",
       " 'C110P71ThinF_IMG_20150930_105925_cell_40.png',\n",
       " 'C110P71ThinF_IMG_20150930_105925_cell_72.png',\n",
       " 'C110P71ThinF_IMG_20150930_105925_cell_86.png',\n",
       " 'C110P71ThinF_IMG_20150930_110052_cell_119.png',\n",
       " 'C110P71ThinF_IMG_20150930_110052_cell_130.png',\n",
       " 'C110P71ThinF_IMG_20150930_110052_cell_149.png',\n",
       " 'C110P71ThinF_IMG_20150930_110052_cell_166.png',\n",
       " 'C110P71ThinF_IMG_20150930_110052_cell_190.png',\n",
       " 'C110P71ThinF_IMG_20150930_110052_cell_196.png',\n",
       " 'C110P71ThinF_IMG_20150930_110052_cell_198.png',\n",
       " 'C110P71ThinF_IMG_20150930_110052_cell_20.png',\n",
       " 'C110P71ThinF_IMG_20150930_110052_cell_28.png',\n",
       " 'C110P71ThinF_IMG_20150930_110052_cell_54.png',\n",
       " 'C110P71ThinF_IMG_20150930_110052_cell_75.png',\n",
       " 'C110P71ThinF_IMG_20150930_110052_cell_83.png',\n",
       " 'C110P71ThinF_IMG_20150930_110404_cell_100.png',\n",
       " 'C110P71ThinF_IMG_20150930_110404_cell_117.png',\n",
       " 'C110P71ThinF_IMG_20150930_110404_cell_126.png',\n",
       " 'C110P71ThinF_IMG_20150930_110404_cell_13.png',\n",
       " 'C110P71ThinF_IMG_20150930_110404_cell_18.png',\n",
       " 'C110P71ThinF_IMG_20150930_110404_cell_30.png',\n",
       " 'C110P71ThinF_IMG_20150930_110404_cell_32.png',\n",
       " 'C110P71ThinF_IMG_20150930_110404_cell_70.png',\n",
       " 'C110P71ThinF_IMG_20150930_110404_cell_76.png',\n",
       " 'C110P71ThinF_IMG_20150930_110404_cell_8.png',\n",
       " 'C111P72ThinF_IMG_20150930_112430_cell_107.png',\n",
       " 'C111P72ThinF_IMG_20150930_112430_cell_114.png',\n",
       " 'C111P72ThinF_IMG_20150930_112430_cell_119.png',\n",
       " 'C111P72ThinF_IMG_20150930_112430_cell_161.png',\n",
       " 'C111P72ThinF_IMG_20150930_112430_cell_173.png',\n",
       " 'C111P72ThinF_IMG_20150930_112430_cell_175.png',\n",
       " 'C111P72ThinF_IMG_20150930_112430_cell_186.png',\n",
       " 'C111P72ThinF_IMG_20150930_112430_cell_45.png',\n",
       " 'C111P72ThinF_IMG_20150930_112609_cell_103.png',\n",
       " 'C111P72ThinF_IMG_20150930_112609_cell_107.png',\n",
       " 'C111P72ThinF_IMG_20150930_112609_cell_122.png',\n",
       " 'C111P72ThinF_IMG_20150930_112609_cell_155.png',\n",
       " 'C111P72ThinF_IMG_20150930_112609_cell_161.png',\n",
       " 'C111P72ThinF_IMG_20150930_112609_cell_55.png',\n",
       " 'C111P72ThinF_IMG_20150930_112609_cell_56.png',\n",
       " 'C111P72ThinF_IMG_20150930_112609_cell_69.png',\n",
       " 'C111P72ThinF_IMG_20150930_112609_cell_88.png',\n",
       " 'C111P72ThinF_IMG_20150930_112827_cell_1.png',\n",
       " 'C111P72ThinF_IMG_20150930_112827_cell_128.png',\n",
       " 'C111P72ThinF_IMG_20150930_112827_cell_141.png',\n",
       " 'C111P72ThinF_IMG_20150930_112827_cell_144.png',\n",
       " 'C111P72ThinF_IMG_20150930_112827_cell_15.png',\n",
       " 'C111P72ThinF_IMG_20150930_112827_cell_164.png',\n",
       " 'C111P72ThinF_IMG_20150930_112827_cell_37.png',\n",
       " 'C111P72ThinF_IMG_20150930_112827_cell_41.png',\n",
       " 'C111P72ThinF_IMG_20150930_112827_cell_64.png',\n",
       " 'C111P72ThinF_IMG_20150930_113003_cell_106.png',\n",
       " 'C111P72ThinF_IMG_20150930_113003_cell_125.png',\n",
       " 'C111P72ThinF_IMG_20150930_113003_cell_135.png',\n",
       " 'C111P72ThinF_IMG_20150930_113003_cell_136.png',\n",
       " 'C111P72ThinF_IMG_20150930_113003_cell_144.png',\n",
       " 'C111P72ThinF_IMG_20150930_113003_cell_156.png',\n",
       " 'C111P72ThinF_IMG_20150930_113003_cell_16.png',\n",
       " 'C111P72ThinF_IMG_20150930_113003_cell_41.png',\n",
       " 'C111P72ThinF_IMG_20150930_113003_cell_50.png',\n",
       " 'C111P72ThinF_IMG_20150930_113003_cell_75.png',\n",
       " 'C111P72ThinF_IMG_20150930_113049_cell_102.png',\n",
       " 'C111P72ThinF_IMG_20150930_113049_cell_12.png',\n",
       " 'C111P72ThinF_IMG_20150930_113049_cell_144.png',\n",
       " 'C111P72ThinF_IMG_20150930_113049_cell_2.png',\n",
       " 'C111P72ThinF_IMG_20150930_113049_cell_20.png',\n",
       " 'C111P72ThinF_IMG_20150930_113049_cell_30.png',\n",
       " 'C111P72ThinF_IMG_20150930_113049_cell_37.png',\n",
       " 'C111P72ThinF_IMG_20150930_113049_cell_66.png',\n",
       " 'C111P72ThinF_IMG_20150930_113049_cell_71.png',\n",
       " 'C111P72ThinF_IMG_20150930_113210_cell_145.png',\n",
       " 'C111P72ThinF_IMG_20150930_113210_cell_153.png',\n",
       " 'C111P72ThinF_IMG_20150930_113210_cell_160.png',\n",
       " 'C111P72ThinF_IMG_20150930_113210_cell_164.png',\n",
       " 'C111P72ThinF_IMG_20150930_113210_cell_18.png',\n",
       " 'C111P72ThinF_IMG_20150930_113210_cell_34.png',\n",
       " 'C111P72ThinF_IMG_20150930_113210_cell_4.png',\n",
       " 'C111P72ThinF_IMG_20150930_113210_cell_41.png',\n",
       " 'C111P72ThinF_IMG_20150930_113210_cell_45.png',\n",
       " 'C111P72ThinF_IMG_20150930_113610_cell_128.png',\n",
       " 'C111P72ThinF_IMG_20150930_113610_cell_134.png',\n",
       " 'C111P72ThinF_IMG_20150930_113610_cell_169.png',\n",
       " 'C111P72ThinF_IMG_20150930_113610_cell_196.png',\n",
       " 'C111P72ThinF_IMG_20150930_113610_cell_198.png',\n",
       " 'C111P72ThinF_IMG_20150930_113610_cell_29.png',\n",
       " 'C111P72ThinF_IMG_20150930_113610_cell_62.png',\n",
       " 'C111P72ThinF_IMG_20150930_113610_cell_9.png',\n",
       " 'C111P72ThinF_IMG_20150930_113610_cell_98.png',\n",
       " 'C111P72ThinF_IMG_20150930_113610_cell_99.png',\n",
       " 'C112P73ThinF_IMG_20150930_131254_cell_126.png',\n",
       " 'C112P73ThinF_IMG_20150930_131254_cell_137.png',\n",
       " 'C112P73ThinF_IMG_20150930_131254_cell_155.png',\n",
       " 'C112P73ThinF_IMG_20150930_131254_cell_167.png',\n",
       " 'C112P73ThinF_IMG_20150930_131254_cell_30.png',\n",
       " 'C112P73ThinF_IMG_20150930_131254_cell_37.png',\n",
       " 'C112P73ThinF_IMG_20150930_131254_cell_4.png',\n",
       " 'C112P73ThinF_IMG_20150930_131254_cell_46.png',\n",
       " 'C112P73ThinF_IMG_20150930_131254_cell_93.png',\n",
       " 'C112P73ThinF_IMG_20150930_131401_cell_14.png',\n",
       " 'C112P73ThinF_IMG_20150930_131401_cell_152.png',\n",
       " 'C112P73ThinF_IMG_20150930_131401_cell_160.png',\n",
       " 'C112P73ThinF_IMG_20150930_131401_cell_49.png',\n",
       " 'C112P73ThinF_IMG_20150930_131401_cell_62.png',\n",
       " 'C112P73ThinF_IMG_20150930_131401_cell_95.png',\n",
       " 'C112P73ThinF_IMG_20150930_131516_cell_1.png',\n",
       " 'C112P73ThinF_IMG_20150930_131516_cell_108.png',\n",
       " 'C112P73ThinF_IMG_20150930_131516_cell_109.png',\n",
       " 'C112P73ThinF_IMG_20150930_131516_cell_112.png',\n",
       " 'C112P73ThinF_IMG_20150930_131516_cell_119.png',\n",
       " 'C112P73ThinF_IMG_20150930_131516_cell_125.png',\n",
       " 'C112P73ThinF_IMG_20150930_131516_cell_156.png',\n",
       " 'C112P73ThinF_IMG_20150930_131516_cell_157.png',\n",
       " 'C112P73ThinF_IMG_20150930_131516_cell_57.png',\n",
       " 'C112P73ThinF_IMG_20150930_131516_cell_76.png',\n",
       " 'C112P73ThinF_IMG_20150930_131516_cell_93.png',\n",
       " 'C112P73ThinF_IMG_20150930_131605_cell_111.png',\n",
       " 'C112P73ThinF_IMG_20150930_131605_cell_117.png',\n",
       " 'C112P73ThinF_IMG_20150930_131605_cell_121.png',\n",
       " 'C112P73ThinF_IMG_20150930_131605_cell_142.png',\n",
       " 'C112P73ThinF_IMG_20150930_131605_cell_143.png',\n",
       " 'C112P73ThinF_IMG_20150930_131605_cell_146.png',\n",
       " 'C112P73ThinF_IMG_20150930_131605_cell_165.png',\n",
       " 'C112P73ThinF_IMG_20150930_131605_cell_176.png',\n",
       " 'C112P73ThinF_IMG_20150930_131605_cell_98.png',\n",
       " 'C112P73ThinF_IMG_20150930_131659_cell_125.png',\n",
       " 'C112P73ThinF_IMG_20150930_131659_cell_137.png',\n",
       " 'C112P73ThinF_IMG_20150930_131659_cell_143.png',\n",
       " 'C112P73ThinF_IMG_20150930_131659_cell_151.png',\n",
       " 'C112P73ThinF_IMG_20150930_131659_cell_190.png',\n",
       " 'C112P73ThinF_IMG_20150930_131659_cell_44.png',\n",
       " 'C112P73ThinF_IMG_20150930_131659_cell_54.png',\n",
       " 'C112P73ThinF_IMG_20150930_131659_cell_94.png',\n",
       " 'C112P73ThinF_IMG_20150930_131753_cell_104.png',\n",
       " 'C112P73ThinF_IMG_20150930_131753_cell_107.png',\n",
       " 'C112P73ThinF_IMG_20150930_131753_cell_22.png',\n",
       " 'C112P73ThinF_IMG_20150930_131753_cell_32.png',\n",
       " 'C112P73ThinF_IMG_20150930_131753_cell_60.png',\n",
       " 'C112P73ThinF_IMG_20150930_131753_cell_66.png',\n",
       " 'C112P73ThinF_IMG_20150930_131753_cell_72.png',\n",
       " 'C112P73ThinF_IMG_20150930_131753_cell_80.png',\n",
       " 'C112P73ThinF_IMG_20150930_131900_cell_111.png',\n",
       " 'C112P73ThinF_IMG_20150930_131900_cell_167.png',\n",
       " 'C112P73ThinF_IMG_20150930_131900_cell_172.png',\n",
       " 'C112P73ThinF_IMG_20150930_131900_cell_46.png',\n",
       " 'C112P73ThinF_IMG_20150930_131900_cell_62.png',\n",
       " 'C112P73ThinF_IMG_20150930_131900_cell_95.png',\n",
       " 'C113P74ThinF_IMG_20150930_134355_cell_117.png',\n",
       " 'C113P74ThinF_IMG_20150930_134355_cell_129.png',\n",
       " 'C113P74ThinF_IMG_20150930_134355_cell_16.png',\n",
       " 'C113P74ThinF_IMG_20150930_134355_cell_24.png',\n",
       " 'C113P74ThinF_IMG_20150930_134355_cell_42.png',\n",
       " 'C113P74ThinF_IMG_20150930_134355_cell_5.png',\n",
       " 'C113P74ThinF_IMG_20150930_134355_cell_77.png',\n",
       " 'C113P74ThinF_IMG_20150930_134355_cell_89.png',\n",
       " 'C113P74ThinF_IMG_20150930_134429_cell_114.png',\n",
       " 'C113P74ThinF_IMG_20150930_134429_cell_127.png',\n",
       " 'C113P74ThinF_IMG_20150930_134429_cell_152.png',\n",
       " 'C113P74ThinF_IMG_20150930_134429_cell_16.png',\n",
       " 'C113P74ThinF_IMG_20150930_134429_cell_31.png',\n",
       " 'C113P74ThinF_IMG_20150930_134429_cell_32.png',\n",
       " 'C113P74ThinF_IMG_20150930_134614_cell_138.png',\n",
       " 'C113P74ThinF_IMG_20150930_134614_cell_157.png',\n",
       " 'C113P74ThinF_IMG_20150930_134614_cell_4.png',\n",
       " 'C113P74ThinF_IMG_20150930_134614_cell_61.png',\n",
       " 'C113P74ThinF_IMG_20150930_134614_cell_78.png',\n",
       " 'C113P74ThinF_IMG_20150930_134614_cell_8.png',\n",
       " 'C113P74ThinF_IMG_20150930_134614_cell_81.png',\n",
       " 'C113P74ThinF_IMG_20150930_134614_cell_90.png',\n",
       " 'C113P74ThinF_IMG_20150930_134751_cell_105.png',\n",
       " 'C113P74ThinF_IMG_20150930_134751_cell_132.png',\n",
       " 'C113P74ThinF_IMG_20150930_134751_cell_149.png',\n",
       " 'C113P74ThinF_IMG_20150930_134751_cell_164.png',\n",
       " 'C113P74ThinF_IMG_20150930_134751_cell_30.png',\n",
       " 'C113P74ThinF_IMG_20150930_134751_cell_51.png',\n",
       " 'C113P74ThinF_IMG_20150930_134751_cell_57.png',\n",
       " 'C113P74ThinF_IMG_20150930_134751_cell_61.png',\n",
       " 'C113P74ThinF_IMG_20150930_134751_cell_83.png',\n",
       " 'C113P74ThinF_IMG_20150930_134751_cell_87.png',\n",
       " 'C113P74ThinF_IMG_20150930_134949_cell_108.png',\n",
       " 'C113P74ThinF_IMG_20150930_134949_cell_11.png',\n",
       " 'C113P74ThinF_IMG_20150930_134949_cell_129.png',\n",
       " 'C113P74ThinF_IMG_20150930_134949_cell_135.png',\n",
       " 'C113P74ThinF_IMG_20150930_134949_cell_157.png',\n",
       " 'C113P74ThinF_IMG_20150930_134949_cell_36.png',\n",
       " 'C113P74ThinF_IMG_20150930_134949_cell_38.png',\n",
       " 'C113P74ThinF_IMG_20150930_134949_cell_47.png',\n",
       " 'C113P74ThinF_IMG_20150930_134949_cell_60.png',\n",
       " 'C113P74ThinF_IMG_20150930_134949_cell_77.png',\n",
       " 'C113P74ThinF_IMG_20150930_135904_cell_126.png',\n",
       " 'C113P74ThinF_IMG_20150930_135904_cell_129.png',\n",
       " 'C113P74ThinF_IMG_20150930_135904_cell_147.png',\n",
       " 'C113P74ThinF_IMG_20150930_135904_cell_162.png',\n",
       " 'C113P74ThinF_IMG_20150930_135904_cell_18.png',\n",
       " 'C113P74ThinF_IMG_20150930_135904_cell_23.png',\n",
       " 'C113P74ThinF_IMG_20150930_135904_cell_25.png',\n",
       " 'C113P74ThinF_IMG_20150930_135904_cell_46.png',\n",
       " 'C113P74ThinF_IMG_20150930_135904_cell_60.png',\n",
       " 'C113P74ThinF_IMG_20150930_135904_cell_94.png',\n",
       " 'C113P74ThinF_IMG_20150930_140646_cell_111.png',\n",
       " 'C113P74ThinF_IMG_20150930_140646_cell_122.png',\n",
       " 'C113P74ThinF_IMG_20150930_140646_cell_147.png',\n",
       " 'C113P74ThinF_IMG_20150930_140646_cell_161.png',\n",
       " 'C113P74ThinF_IMG_20150930_140646_cell_28.png',\n",
       " 'C113P74ThinF_IMG_20150930_140646_cell_31.png',\n",
       " 'C113P74ThinF_IMG_20150930_140646_cell_52.png',\n",
       " 'C113P74ThinF_IMG_20150930_140646_cell_96.png',\n",
       " 'C114P75ThinF_IMG_20150930_150013_cell_102.png',\n",
       " 'C114P75ThinF_IMG_20150930_150013_cell_104.png',\n",
       " 'C114P75ThinF_IMG_20150930_150013_cell_107.png',\n",
       " 'C114P75ThinF_IMG_20150930_150013_cell_117.png',\n",
       " 'C114P75ThinF_IMG_20150930_150013_cell_130.png',\n",
       " 'C114P75ThinF_IMG_20150930_150013_cell_192.png',\n",
       " 'C114P75ThinF_IMG_20150930_150013_cell_68.png',\n",
       " 'C114P75ThinF_IMG_20150930_150057_cell_103.png',\n",
       " 'C114P75ThinF_IMG_20150930_150057_cell_113.png',\n",
       " 'C114P75ThinF_IMG_20150930_150057_cell_125.png',\n",
       " 'C114P75ThinF_IMG_20150930_150057_cell_139.png',\n",
       " 'C114P75ThinF_IMG_20150930_150057_cell_160.png',\n",
       " 'C114P75ThinF_IMG_20150930_150057_cell_22.png',\n",
       " 'C114P75ThinF_IMG_20150930_150057_cell_48.png',\n",
       " 'C114P75ThinF_IMG_20150930_150057_cell_93.png',\n",
       " 'C114P75ThinF_IMG_20150930_150145_cell_11.png',\n",
       " 'C114P75ThinF_IMG_20150930_150145_cell_111.png',\n",
       " 'C114P75ThinF_IMG_20150930_150145_cell_123.png',\n",
       " 'C114P75ThinF_IMG_20150930_150145_cell_154.png',\n",
       " 'C114P75ThinF_IMG_20150930_150145_cell_29.png',\n",
       " 'C114P75ThinF_IMG_20150930_150145_cell_40.png',\n",
       " 'C114P75ThinF_IMG_20150930_150145_cell_48.png',\n",
       " 'C114P75ThinF_IMG_20150930_150145_cell_6.png',\n",
       " 'C114P75ThinF_IMG_20150930_150145_cell_77.png',\n",
       " 'C114P75ThinF_IMG_20150930_150555_cell_102.png',\n",
       " 'C114P75ThinF_IMG_20150930_150555_cell_127.png',\n",
       " 'C114P75ThinF_IMG_20150930_150555_cell_129.png',\n",
       " 'C114P75ThinF_IMG_20150930_150555_cell_141.png',\n",
       " 'C114P75ThinF_IMG_20150930_150555_cell_24.png',\n",
       " 'C114P75ThinF_IMG_20150930_150555_cell_32.png',\n",
       " 'C114P75ThinF_IMG_20150930_150555_cell_46.png',\n",
       " 'C114P75ThinF_IMG_20150930_150555_cell_6.png',\n",
       " 'C114P75ThinF_IMG_20150930_150555_cell_78.png',\n",
       " 'C114P75ThinF_IMG_20150930_150555_cell_87.png',\n",
       " 'C114P75ThinF_IMG_20150930_150733_cell_116.png',\n",
       " 'C114P75ThinF_IMG_20150930_150733_cell_120.png',\n",
       " 'C114P75ThinF_IMG_20150930_150733_cell_127.png',\n",
       " 'C114P75ThinF_IMG_20150930_150733_cell_19.png',\n",
       " 'C114P75ThinF_IMG_20150930_150733_cell_21.png',\n",
       " 'C114P75ThinF_IMG_20150930_150733_cell_5.png',\n",
       " 'C114P75ThinF_IMG_20150930_150733_cell_62.png',\n",
       " 'C114P75ThinF_IMG_20150930_150733_cell_7.png',\n",
       " 'C114P75ThinF_IMG_20150930_150733_cell_76.png',\n",
       " 'C114P75ThinF_IMG_20150930_150733_cell_80.png',\n",
       " 'C114P75ThinF_IMG_20150930_150833_cell_100.png',\n",
       " 'C114P75ThinF_IMG_20150930_150833_cell_103.png',\n",
       " 'C114P75ThinF_IMG_20150930_150833_cell_140.png',\n",
       " 'C114P75ThinF_IMG_20150930_150833_cell_23.png',\n",
       " 'C114P75ThinF_IMG_20150930_150833_cell_26.png',\n",
       " 'C114P75ThinF_IMG_20150930_150833_cell_34.png',\n",
       " 'C114P75ThinF_IMG_20150930_150833_cell_36.png',\n",
       " 'C114P75ThinF_IMG_20150930_150833_cell_58.png',\n",
       " 'C114P75ThinF_IMG_20150930_150833_cell_73.png',\n",
       " 'C114P75ThinF_IMG_20150930_151150_cell_104.png',\n",
       " 'C114P75ThinF_IMG_20150930_151150_cell_111.png',\n",
       " 'C114P75ThinF_IMG_20150930_151150_cell_153.png',\n",
       " 'C114P75ThinF_IMG_20150930_151150_cell_19.png',\n",
       " 'C114P75ThinF_IMG_20150930_151150_cell_24.png',\n",
       " 'C114P75ThinF_IMG_20150930_151150_cell_37.png',\n",
       " 'C114P75ThinF_IMG_20150930_151150_cell_48.png',\n",
       " 'C114P75ThinF_IMG_20150930_151150_cell_74.png',\n",
       " 'C115P76ThinF_IMG_20150930_161825_cell_108.png',\n",
       " 'C115P76ThinF_IMG_20150930_161825_cell_119.png',\n",
       " 'C115P76ThinF_IMG_20150930_161825_cell_125.png',\n",
       " 'C115P76ThinF_IMG_20150930_161825_cell_126.png',\n",
       " 'C115P76ThinF_IMG_20150930_161825_cell_128.png',\n",
       " 'C115P76ThinF_IMG_20150930_161825_cell_167.png',\n",
       " 'C115P76ThinF_IMG_20150930_161825_cell_191.png',\n",
       " 'C115P76ThinF_IMG_20150930_161825_cell_198.png',\n",
       " 'C115P76ThinF_IMG_20150930_161825_cell_2.png',\n",
       " 'C115P76ThinF_IMG_20150930_161825_cell_25.png',\n",
       " 'C115P76ThinF_IMG_20150930_161825_cell_51.png',\n",
       " 'C115P76ThinF_IMG_20150930_161825_cell_94.png',\n",
       " 'C115P76ThinF_IMG_20150930_162038_cell_121.png',\n",
       " 'C115P76ThinF_IMG_20150930_162038_cell_15.png',\n",
       " 'C115P76ThinF_IMG_20150930_162038_cell_156.png',\n",
       " 'C115P76ThinF_IMG_20150930_162038_cell_167.png',\n",
       " 'C115P76ThinF_IMG_20150930_162038_cell_171.png',\n",
       " 'C115P76ThinF_IMG_20150930_162038_cell_18.png',\n",
       " 'C115P76ThinF_IMG_20150930_162038_cell_183.png',\n",
       " 'C115P76ThinF_IMG_20150930_162038_cell_198.png',\n",
       " 'C115P76ThinF_IMG_20150930_162038_cell_25.png',\n",
       " 'C115P76ThinF_IMG_20150930_162038_cell_36.png',\n",
       " 'C115P76ThinF_IMG_20150930_162038_cell_62.png',\n",
       " 'C115P76ThinF_IMG_20150930_162038_cell_68.png',\n",
       " 'C115P76ThinF_IMG_20150930_162038_cell_9.png',\n",
       " 'C115P76ThinF_IMG_20150930_162315_cell_151.png',\n",
       " 'C115P76ThinF_IMG_20150930_162315_cell_215.png',\n",
       " 'C115P76ThinF_IMG_20150930_162315_cell_218.png',\n",
       " 'C115P76ThinF_IMG_20150930_162315_cell_230.png',\n",
       " 'C115P76ThinF_IMG_20150930_162315_cell_243.png',\n",
       " 'C115P76ThinF_IMG_20150930_162315_cell_25.png',\n",
       " 'C115P76ThinF_IMG_20150930_162315_cell_254.png',\n",
       " 'C115P76ThinF_IMG_20150930_162315_cell_45.png',\n",
       " 'C115P76ThinF_IMG_20150930_162315_cell_9.png',\n",
       " 'C115P76ThinF_IMG_20150930_162315_cell_91.png',\n",
       " 'C115P76ThinF_IMG_20150930_162315_cell_99.png',\n",
       " 'C115P76ThinF_IMG_20150930_163018_cell_103.png',\n",
       " 'C115P76ThinF_IMG_20150930_163018_cell_113.png',\n",
       " 'C115P76ThinF_IMG_20150930_163018_cell_123.png',\n",
       " 'C115P76ThinF_IMG_20150930_163018_cell_147.png',\n",
       " 'C115P76ThinF_IMG_20150930_163018_cell_157.png',\n",
       " 'C115P76ThinF_IMG_20150930_163018_cell_177.png',\n",
       " 'C115P76ThinF_IMG_20150930_163018_cell_187.png',\n",
       " 'C115P76ThinF_IMG_20150930_163018_cell_208.png',\n",
       " 'C115P76ThinF_IMG_20150930_163018_cell_211.png',\n",
       " 'C115P76ThinF_IMG_20150930_163018_cell_221.png',\n",
       " 'C115P76ThinF_IMG_20150930_163018_cell_232.png',\n",
       " 'C115P76ThinF_IMG_20150930_163018_cell_36.png',\n",
       " 'C115P76ThinF_IMG_20150930_163156_cell_163.png',\n",
       " 'C115P76ThinF_IMG_20150930_163156_cell_197.png',\n",
       " 'C115P76ThinF_IMG_20150930_163156_cell_204.png',\n",
       " 'C115P76ThinF_IMG_20150930_163156_cell_214.png',\n",
       " 'C115P76ThinF_IMG_20150930_163156_cell_221.png',\n",
       " 'C115P76ThinF_IMG_20150930_163156_cell_229.png',\n",
       " 'C115P76ThinF_IMG_20150930_163156_cell_25.png',\n",
       " 'C115P76ThinF_IMG_20150930_163156_cell_75.png',\n",
       " 'C115P76ThinF_IMG_20150930_163156_cell_76.png',\n",
       " 'C115P76ThinF_IMG_20150930_163156_cell_80.png',\n",
       " 'C115P76ThinF_IMG_20150930_163156_cell_85.png',\n",
       " 'C115P76ThinF_IMG_20150930_163156_cell_90.png',\n",
       " 'C116P77ThinF_IMG_20150930_171219_cell_10.png',\n",
       " 'C116P77ThinF_IMG_20150930_171219_cell_21.png',\n",
       " 'C116P77ThinF_IMG_20150930_171219_cell_33.png',\n",
       " 'C116P77ThinF_IMG_20150930_171219_cell_34.png',\n",
       " 'C116P77ThinF_IMG_20150930_171219_cell_39.png',\n",
       " 'C116P77ThinF_IMG_20150930_171219_cell_6.png',\n",
       " 'C116P77ThinF_IMG_20150930_171219_cell_65.png',\n",
       " 'C116P77ThinF_IMG_20150930_171219_cell_69.png',\n",
       " 'C116P77ThinF_IMG_20150930_171448_cell_39.png',\n",
       " 'C116P77ThinF_IMG_20150930_171448_cell_48.png',\n",
       " 'C116P77ThinF_IMG_20150930_171448_cell_53.png',\n",
       " 'C116P77ThinF_IMG_20150930_171448_cell_7.png',\n",
       " 'C116P77ThinF_IMG_20150930_171448_cell_72.png',\n",
       " 'C116P77ThinF_IMG_20150930_171448_cell_81.png',\n",
       " ...]"
      ]
     },
     "execution_count": 63,
     "metadata": {},
     "output_type": "execute_result"
    }
   ],
   "source": [
    "os.listdir(train_path+'uninfected')"
   ]
  },
  {
   "cell_type": "code",
   "execution_count": 64,
   "id": "c4fda19d",
   "metadata": {},
   "outputs": [
    {
     "data": {
      "text/plain": [
       "1300"
      ]
     },
     "execution_count": 64,
     "metadata": {},
     "output_type": "execute_result"
    }
   ],
   "source": [
    "len(os.listdir(test_path+'parasitized'))"
   ]
  },
  {
   "cell_type": "code",
   "execution_count": 65,
   "id": "e58cca9d",
   "metadata": {},
   "outputs": [
    {
     "data": {
      "text/plain": [
       "1300"
      ]
     },
     "execution_count": 65,
     "metadata": {},
     "output_type": "execute_result"
    }
   ],
   "source": [
    "len(os.listdir(test_path+'uninfected'))"
   ]
  },
  {
   "cell_type": "code",
   "execution_count": 66,
   "id": "fd57f9a5",
   "metadata": {},
   "outputs": [],
   "source": [
    "dim1 = []\n",
    "dim2 = []\n",
    "for image_filename in os.listdir(test_path+'uninfected'):\n",
    "    img = imread(test_path +'uninfected\\\\' +image_filename)\n",
    "    d1,d2,colors = img.shape\n",
    "    dim1.append(d1)\n",
    "    dim2.append(d2)"
   ]
  },
  {
   "cell_type": "code",
   "execution_count": 67,
   "id": "c00c6f3e",
   "metadata": {},
   "outputs": [],
   "source": [
    "df = pd.DataFrame({'dim1':dim1,'dim2':dim2},columns=['dim1','dim2'])"
   ]
  },
  {
   "cell_type": "code",
   "execution_count": 68,
   "id": "1831b17e",
   "metadata": {},
   "outputs": [
    {
     "data": {
      "text/html": [
       "<div>\n",
       "<style scoped>\n",
       "    .dataframe tbody tr th:only-of-type {\n",
       "        vertical-align: middle;\n",
       "    }\n",
       "\n",
       "    .dataframe tbody tr th {\n",
       "        vertical-align: top;\n",
       "    }\n",
       "\n",
       "    .dataframe thead th {\n",
       "        text-align: right;\n",
       "    }\n",
       "</style>\n",
       "<table border=\"1\" class=\"dataframe\">\n",
       "  <thead>\n",
       "    <tr style=\"text-align: right;\">\n",
       "      <th></th>\n",
       "      <th>dim1</th>\n",
       "      <th>dim2</th>\n",
       "    </tr>\n",
       "  </thead>\n",
       "  <tbody>\n",
       "    <tr>\n",
       "      <th>0</th>\n",
       "      <td>118</td>\n",
       "      <td>118</td>\n",
       "    </tr>\n",
       "    <tr>\n",
       "      <th>1</th>\n",
       "      <td>172</td>\n",
       "      <td>145</td>\n",
       "    </tr>\n",
       "    <tr>\n",
       "      <th>2</th>\n",
       "      <td>130</td>\n",
       "      <td>151</td>\n",
       "    </tr>\n",
       "    <tr>\n",
       "      <th>3</th>\n",
       "      <td>163</td>\n",
       "      <td>145</td>\n",
       "    </tr>\n",
       "    <tr>\n",
       "      <th>4</th>\n",
       "      <td>172</td>\n",
       "      <td>139</td>\n",
       "    </tr>\n",
       "    <tr>\n",
       "      <th>...</th>\n",
       "      <td>...</td>\n",
       "      <td>...</td>\n",
       "    </tr>\n",
       "    <tr>\n",
       "      <th>1295</th>\n",
       "      <td>130</td>\n",
       "      <td>142</td>\n",
       "    </tr>\n",
       "    <tr>\n",
       "      <th>1296</th>\n",
       "      <td>118</td>\n",
       "      <td>94</td>\n",
       "    </tr>\n",
       "    <tr>\n",
       "      <th>1297</th>\n",
       "      <td>109</td>\n",
       "      <td>136</td>\n",
       "    </tr>\n",
       "    <tr>\n",
       "      <th>1298</th>\n",
       "      <td>154</td>\n",
       "      <td>133</td>\n",
       "    </tr>\n",
       "    <tr>\n",
       "      <th>1299</th>\n",
       "      <td>166</td>\n",
       "      <td>148</td>\n",
       "    </tr>\n",
       "  </tbody>\n",
       "</table>\n",
       "<p>1300 rows × 2 columns</p>\n",
       "</div>"
      ],
      "text/plain": [
       "      dim1  dim2\n",
       "0      118   118\n",
       "1      172   145\n",
       "2      130   151\n",
       "3      163   145\n",
       "4      172   139\n",
       "...    ...   ...\n",
       "1295   130   142\n",
       "1296   118    94\n",
       "1297   109   136\n",
       "1298   154   133\n",
       "1299   166   148\n",
       "\n",
       "[1300 rows x 2 columns]"
      ]
     },
     "execution_count": 68,
     "metadata": {},
     "output_type": "execute_result"
    }
   ],
   "source": [
    "df"
   ]
  },
  {
   "cell_type": "code",
   "execution_count": 69,
   "id": "13a6c68e",
   "metadata": {},
   "outputs": [
    {
     "data": {
      "text/plain": [
       "<seaborn.axisgrid.JointGrid at 0x1d3b0cb2620>"
      ]
     },
     "execution_count": 69,
     "metadata": {},
     "output_type": "execute_result"
    },
    {
     "data": {
      "image/png": "[encoded data removed]",
      "text/plain": [
       "<Figure size 600x600 with 3 Axes>"
      ]
     },
     "metadata": {},
     "output_type": "display_data"
    }
   ],
   "source": [
    "sns.jointplot(data = df, x ='dim1',y = 'dim2')"
   ]
  },
  {
   "cell_type": "code",
   "execution_count": 70,
   "id": "8e88ab2f",
   "metadata": {},
   "outputs": [
    {
     "data": {
      "text/plain": [
       "130.92538461538462"
      ]
     },
     "execution_count": 70,
     "metadata": {},
     "output_type": "execute_result"
    }
   ],
   "source": [
    "np.mean(dim1)"
   ]
  },
  {
   "cell_type": "code",
   "execution_count": 71,
   "id": "6c26b55f",
   "metadata": {},
   "outputs": [
    {
     "data": {
      "text/plain": [
       "130.75"
      ]
     },
     "execution_count": 71,
     "metadata": {},
     "output_type": "execute_result"
    }
   ],
   "source": [
    "np.mean(dim2)"
   ]
  },
  {
   "cell_type": "code",
   "execution_count": 72,
   "id": "4c45eab0",
   "metadata": {},
   "outputs": [],
   "source": [
    "image_shape = (130,130,3)"
   ]
  },
  {
   "cell_type": "code",
   "execution_count": 73,
   "id": "f6bc2e24",
   "metadata": {},
   "outputs": [
    {
     "data": {
      "text/plain": [
       "50700"
      ]
     },
     "execution_count": 73,
     "metadata": {},
     "output_type": "execute_result"
    }
   ],
   "source": [
    "130*130*3"
   ]
  },
  {
   "cell_type": "code",
   "execution_count": 75,
   "id": "93647ebc",
   "metadata": {},
   "outputs": [],
   "source": [
    "from tensorflow.keras.preprocessing.image import ImageDataGenerator"
   ]
  },
  {
   "cell_type": "code",
   "execution_count": 76,
   "id": "c340bd34",
   "metadata": {},
   "outputs": [],
   "source": [
    "image_gen = ImageDataGenerator(rotation_range=20,\n",
    "                              width_shift_range=0.1,\n",
    "                              height_shift_range = 0.1,\n",
    "                              shear_range = 0.1,\n",
    "                              zoom_range=0.1,\n",
    "                              horizontal_flip=True,\n",
    "                              fill_mode='nearest')"
   ]
  },
  {
   "cell_type": "code",
   "execution_count": 77,
   "id": "4782db97",
   "metadata": {},
   "outputs": [
    {
     "data": {
      "text/plain": [
       "<matplotlib.image.AxesImage at 0x1d3b1574d90>"
      ]
     },
     "execution_count": 77,
     "metadata": {},
     "output_type": "execute_result"
    },
    {
     "data": {
      "image/png": "[encoded data removed]",
      "text/plain": [
       "<Figure size 640x480 with 1 Axes>"
      ]
     },
     "metadata": {},
     "output_type": "display_data"
    }
   ],
   "source": [
    "para_img = imread(para_cell)\n",
    "plt.imshow(para_img)"
   ]
  },
  {
   "cell_type": "code",
   "execution_count": 78,
   "id": "10c6257e",
   "metadata": {},
   "outputs": [
    {
     "data": {
      "text/plain": [
       "<matplotlib.image.AxesImage at 0x1d3b16001c0>"
      ]
     },
     "execution_count": 78,
     "metadata": {},
     "output_type": "execute_result"
    },
    {
     "data": {
      "image/png": "[encoded data removed]",
      "text/plain": [
       "<Figure size 640x480 with 1 Axes>"
      ]
     },
     "metadata": {},
     "output_type": "display_data"
    }
   ],
   "source": [
    "plt.imshow(image_gen.random_transform(para_img))"
   ]
  },
  {
   "cell_type": "code",
   "execution_count": 81,
   "id": "9d7fceef",
   "metadata": {},
   "outputs": [
    {
     "name": "stdout",
     "output_type": "stream",
     "text": [
      "Found 24958 images belonging to 2 classes.\n"
     ]
    },
    {
     "data": {
      "text/plain": [
       "<keras.preprocessing.image.DirectoryIterator at 0x1d3b164c850>"
      ]
     },
     "execution_count": 81,
     "metadata": {},
     "output_type": "execute_result"
    }
   ],
   "source": [
    "image_gen.flow_from_directory(train_path)"
   ]
  },
  {
   "cell_type": "code",
   "execution_count": 80,
   "id": "e46a85a4",
   "metadata": {},
   "outputs": [
    {
     "name": "stdout",
     "output_type": "stream",
     "text": [
      "Found 2600 images belonging to 2 classes.\n"
     ]
    },
    {
     "data": {
      "text/plain": [
       "<keras.preprocessing.image.DirectoryIterator at 0x1d3b0fc8250>"
      ]
     },
     "execution_count": 80,
     "metadata": {},
     "output_type": "execute_result"
    }
   ],
   "source": [
    "image_gen.flow_from_directory(test_path)"
   ]
  },
  {
   "cell_type": "markdown",
   "id": "faaceb25",
   "metadata": {},
   "source": [
    "# Creating the Model"
   ]
  },
  {
   "cell_type": "code",
   "execution_count": 82,
   "id": "fa3b30ac",
   "metadata": {},
   "outputs": [],
   "source": [
    "from tensorflow.keras.models import Sequential\n",
    "from tensorflow.keras.layers import Dropout,Activation, Flatten, Dense, Conv2D, MaxPooling2D"
   ]
  },
  {
   "cell_type": "code",
   "execution_count": 83,
   "id": "21e9ee6d",
   "metadata": {},
   "outputs": [],
   "source": [
    "\n",
    "model = Sequential()\n",
    "\n",
    "model.add(Conv2D(filters=32, kernel_size=(3,3),input_shape=image_shape, activation='relu',))\n",
    "model.add(MaxPooling2D(pool_size=(2, 2)))\n",
    "\n",
    "model.add(Conv2D(filters=64, kernel_size=(3,3),input_shape=image_shape, activation='relu',))\n",
    "model.add(MaxPooling2D(pool_size=(2, 2)))\n",
    "\n",
    "model.add(Conv2D(filters=64, kernel_size=(3,3),input_shape=image_shape, activation='relu',))\n",
    "model.add(MaxPooling2D(pool_size=(2, 2)))\n",
    "\n",
    "\n",
    "model.add(Flatten())\n",
    "\n",
    "\n",
    "model.add(Dense(128))\n",
    "model.add(Activation('relu'))\n",
    "\n",
    "# Dropouts help reduce overfitting by randomly turning neurons off during training.\n",
    "# Here we say randomly turn off 50% of neurons.\n",
    "model.add(Dropout(0.5))\n",
    "\n",
    "# Last layer, remember its binary so we use sigmoid\n",
    "model.add(Dense(1))\n",
    "model.add(Activation('sigmoid'))\n",
    "\n",
    "model.compile(loss='binary_crossentropy',\n",
    "              optimizer='adam',\n",
    "              metrics=['accuracy'])"
   ]
  },
  {
   "cell_type": "code",
   "execution_count": 84,
   "id": "12b3a985",
   "metadata": {},
   "outputs": [
    {
     "name": "stdout",
     "output_type": "stream",
     "text": [
      "Model: \"sequential_1\"\n",
      "_________________________________________________________________\n",
      " Layer (type)                Output Shape              Param #   \n",
      "=================================================================\n",
      " conv2d_3 (Conv2D)           (None, 128, 128, 32)      896       \n",
      "                                                                 \n",
      " max_pooling2d_3 (MaxPooling  (None, 64, 64, 32)       0         \n",
      " 2D)                                                             \n",
      "                                                                 \n",
      " conv2d_4 (Conv2D)           (None, 62, 62, 64)        18496     \n",
      "                                                                 \n",
      " max_pooling2d_4 (MaxPooling  (None, 31, 31, 64)       0         \n",
      " 2D)                                                             \n",
      "                                                                 \n",
      " conv2d_5 (Conv2D)           (None, 29, 29, 64)        36928     \n",
      "                                                                 \n",
      " max_pooling2d_5 (MaxPooling  (None, 14, 14, 64)       0         \n",
      " 2D)                                                             \n",
      "                                                                 \n",
      " flatten_1 (Flatten)         (None, 12544)             0         \n",
      "                                                                 \n",
      " dense_2 (Dense)             (None, 128)               1605760   \n",
      "                                                                 \n",
      " activation_2 (Activation)   (None, 128)               0         \n",
      "                                                                 \n",
      " dropout_1 (Dropout)         (None, 128)               0         \n",
      "                                                                 \n",
      " dense_3 (Dense)             (None, 1)                 129       \n",
      "                                                                 \n",
      " activation_3 (Activation)   (None, 1)                 0         \n",
      "                                                                 \n",
      "=================================================================\n",
      "Total params: 1,662,209\n",
      "Trainable params: 1,662,209\n",
      "Non-trainable params: 0\n",
      "_________________________________________________________________\n"
     ]
    }
   ],
   "source": [
    "model.summary()"
   ]
  },
  {
   "cell_type": "code",
   "execution_count": 85,
   "id": "2804de82",
   "metadata": {},
   "outputs": [],
   "source": [
    "from tensorflow.keras.callbacks import EarlyStopping"
   ]
  },
  {
   "cell_type": "code",
   "execution_count": 86,
   "id": "06d8f603",
   "metadata": {},
   "outputs": [],
   "source": [
    "early_stop = EarlyStopping(monitor='val_loss',patience=2)"
   ]
  },
  {
   "cell_type": "code",
   "execution_count": 87,
   "id": "c8561495",
   "metadata": {},
   "outputs": [],
   "source": [
    "batch_size = 16"
   ]
  },
  {
   "cell_type": "code",
   "execution_count": 88,
   "id": "98a3663a",
   "metadata": {},
   "outputs": [
    {
     "data": {
      "text/plain": [
       "(130, 130, 3)"
      ]
     },
     "execution_count": 88,
     "metadata": {},
     "output_type": "execute_result"
    }
   ],
   "source": [
    "image_shape"
   ]
  },
  {
   "cell_type": "code",
   "execution_count": 90,
   "id": "00522be7",
   "metadata": {},
   "outputs": [
    {
     "name": "stdout",
     "output_type": "stream",
     "text": [
      "Found 24958 images belonging to 2 classes.\n"
     ]
    }
   ],
   "source": [
    "train_image_gen = image_gen.flow_from_directory(train_path,\n",
    "                                               target_size=image_shape[:2],\n",
    "                                                color_mode='rgb',\n",
    "                                               batch_size=batch_size,\n",
    "                                               class_mode='binary')"
   ]
  },
  {
   "cell_type": "code",
   "execution_count": 89,
   "id": "14c7bb53",
   "metadata": {},
   "outputs": [
    {
     "name": "stdout",
     "output_type": "stream",
     "text": [
      "Found 2600 images belonging to 2 classes.\n"
     ]
    }
   ],
   "source": [
    "test_image_gen = image_gen.flow_from_directory(test_path,\n",
    "                                               target_size=image_shape[:2],\n",
    "                                               color_mode='rgb',\n",
    "                                               batch_size=batch_size,\n",
    "                                               class_mode='binary',shuffle=False)"
   ]
  },
  {
   "cell_type": "code",
   "execution_count": 91,
   "id": "bb1d6521",
   "metadata": {},
   "outputs": [
    {
     "data": {
      "text/plain": [
       "{'parasitized': 0, 'uninfected': 1}"
      ]
     },
     "execution_count": 91,
     "metadata": {},
     "output_type": "execute_result"
    }
   ],
   "source": [
    "train_image_gen.class_indices"
   ]
  },
  {
   "cell_type": "code",
   "execution_count": 92,
   "id": "b20f08e0",
   "metadata": {},
   "outputs": [
    {
     "name": "stdout",
     "output_type": "stream",
     "text": [
      "Epoch 1/20\n",
      "1560/1560 [==============================] - 935s 598ms/step - loss: 0.7678 - accuracy: 0.5373 - val_loss: 0.6838 - val_accuracy: 0.5592\n",
      "Epoch 2/20\n",
      "1560/1560 [==============================] - 767s 492ms/step - loss: 0.6819 - accuracy: 0.5712 - val_loss: 0.6724 - val_accuracy: 0.5896\n",
      "Epoch 3/20\n",
      "1560/1560 [==============================] - 1304s 836ms/step - loss: 0.6778 - accuracy: 0.5779 - val_loss: 0.6696 - val_accuracy: 0.5977\n",
      "Epoch 4/20\n",
      "1560/1560 [==============================] - 1265s 811ms/step - loss: 0.6711 - accuracy: 0.6016 - val_loss: 0.7026 - val_accuracy: 0.5654\n",
      "Epoch 5/20\n",
      "1560/1560 [==============================] - 818s 524ms/step - loss: 0.4217 - accuracy: 0.8049 - val_loss: 0.2236 - val_accuracy: 0.9296\n",
      "Epoch 6/20\n",
      "1560/1560 [==============================] - 564s 362ms/step - loss: 0.2146 - accuracy: 0.9367 - val_loss: 0.1843 - val_accuracy: 0.9404\n",
      "Epoch 7/20\n",
      "1560/1560 [==============================] - 469s 301ms/step - loss: 0.1984 - accuracy: 0.9409 - val_loss: 0.1816 - val_accuracy: 0.9419\n",
      "Epoch 8/20\n",
      "1560/1560 [==============================] - 433s 277ms/step - loss: 0.1841 - accuracy: 0.9449 - val_loss: 0.2002 - val_accuracy: 0.9365\n",
      "Epoch 9/20\n",
      "1560/1560 [==============================] - 376s 241ms/step - loss: 0.1838 - accuracy: 0.9441 - val_loss: 0.1764 - val_accuracy: 0.9423\n",
      "Epoch 10/20\n",
      "1560/1560 [==============================] - 355s 227ms/step - loss: 0.1808 - accuracy: 0.9443 - val_loss: 0.1710 - val_accuracy: 0.9442\n",
      "Epoch 11/20\n",
      "1560/1560 [==============================] - 427s 274ms/step - loss: 0.1761 - accuracy: 0.9467 - val_loss: 0.1750 - val_accuracy: 0.9415\n",
      "Epoch 12/20\n",
      "1560/1560 [==============================] - 414s 265ms/step - loss: 0.1708 - accuracy: 0.9471 - val_loss: 0.3515 - val_accuracy: 0.9358\n"
     ]
    }
   ],
   "source": [
    "results = model.fit(train_image_gen,epochs=20,\n",
    "                              validation_data=test_image_gen,\n",
    "                             callbacks=[early_stop])"
   ]
  },
  {
   "cell_type": "code",
   "execution_count": 102,
   "id": "c3ae9375",
   "metadata": {},
   "outputs": [
    {
     "ename": "AttributeError",
     "evalue": "'dict' object has no attribute 'history'",
     "output_type": "error",
     "traceback": [
      "\u001b[1;31m---------------------------------------------------------------------------\u001b[0m",
      "\u001b[1;31mAttributeError\u001b[0m                            Traceback (most recent call last)",
      "Cell \u001b[1;32mIn[102], line 1\u001b[0m\n\u001b[1;32m----> 1\u001b[0m \u001b[43mresults\u001b[49m\u001b[38;5;241;43m.\u001b[39;49m\u001b[43mhistory\u001b[49m\u001b[38;5;241;43m.\u001b[39;49m\u001b[43mhistory\u001b[49m\n",
      "\u001b[1;31mAttributeError\u001b[0m: 'dict' object has no attribute 'history'"
     ]
    }
   ],
   "source": []
  },
  {
   "cell_type": "code",
   "execution_count": 96,
   "id": "6e516f14",
   "metadata": {},
   "outputs": [],
   "source": [
    "from tensorflow.keras.models import load_model\n",
    "model.save('malaria_detector1.h5')"
   ]
  },
  {
   "cell_type": "code",
   "execution_count": 108,
   "id": "390539e0",
   "metadata": {},
   "outputs": [],
   "source": [
    "model = load_model('malaria_detector1.h5')"
   ]
  },
  {
   "cell_type": "code",
   "execution_count": 110,
   "id": "ba7f3e62",
   "metadata": {},
   "outputs": [
    {
     "data": {
      "text/plain": [
       "['loss', 'accuracy']"
      ]
     },
     "execution_count": 110,
     "metadata": {},
     "output_type": "execute_result"
    }
   ],
   "source": [
    "model.metrics_names"
   ]
  },
  {
   "cell_type": "code",
   "execution_count": 112,
   "id": "03fc17fa",
   "metadata": {},
   "outputs": [
    {
     "name": "stdout",
     "output_type": "stream",
     "text": [
      "163/163 [==============================] - 14s 88ms/step - loss: 0.3128 - accuracy: 0.9350\n"
     ]
    },
    {
     "data": {
      "text/plain": [
       "[0.3128398060798645, 0.9350000023841858]"
      ]
     },
     "execution_count": 112,
     "metadata": {},
     "output_type": "execute_result"
    }
   ],
   "source": [
    "model.evaluate(test_image_gen)"
   ]
  },
  {
   "cell_type": "code",
   "execution_count": 113,
   "id": "c440f3fd",
   "metadata": {},
   "outputs": [],
   "source": [
    "from tensorflow.keras.preprocessing import image"
   ]
  },
  {
   "cell_type": "code",
   "execution_count": 116,
   "id": "dd5a8b30",
   "metadata": {},
   "outputs": [
    {
     "name": "stdout",
     "output_type": "stream",
     "text": [
      "163/163 [==============================] - 15s 90ms/step\n"
     ]
    }
   ],
   "source": [
    "pred_probabilities = model.predict(test_image_gen)"
   ]
  },
  {
   "cell_type": "code",
   "execution_count": 117,
   "id": "224a36ce",
   "metadata": {},
   "outputs": [
    {
     "data": {
      "text/plain": [
       "array([[1.4895179e-05],\n",
       "       [2.2358590e-07],\n",
       "       [8.9422201e-06],\n",
       "       ...,\n",
       "       [9.9827105e-01],\n",
       "       [9.9979717e-01],\n",
       "       [9.8759532e-01]], dtype=float32)"
      ]
     },
     "execution_count": 117,
     "metadata": {},
     "output_type": "execute_result"
    }
   ],
   "source": [
    "pred_probabilities"
   ]
  },
  {
   "cell_type": "code",
   "execution_count": 118,
   "id": "037a2119",
   "metadata": {},
   "outputs": [
    {
     "data": {
      "text/plain": [
       "array([0, 0, 0, ..., 1, 1, 1])"
      ]
     },
     "execution_count": 118,
     "metadata": {},
     "output_type": "execute_result"
    }
   ],
   "source": [
    "test_image_gen.classes"
   ]
  },
  {
   "cell_type": "code",
   "execution_count": 119,
   "id": "0243a92a",
   "metadata": {},
   "outputs": [],
   "source": [
    "predictions = pred_probabilities > 0.5"
   ]
  },
  {
   "cell_type": "code",
   "execution_count": 120,
   "id": "cc2f621e",
   "metadata": {},
   "outputs": [
    {
     "data": {
      "text/plain": [
       "array([[False],\n",
       "       [False],\n",
       "       [False],\n",
       "       ...,\n",
       "       [ True],\n",
       "       [ True],\n",
       "       [ True]])"
      ]
     },
     "execution_count": 120,
     "metadata": {},
     "output_type": "execute_result"
    }
   ],
   "source": [
    "predictions"
   ]
  },
  {
   "cell_type": "code",
   "execution_count": 121,
   "id": "6b954a0a",
   "metadata": {},
   "outputs": [],
   "source": [
    "from sklearn.metrics import classification_report,confusion_matrix"
   ]
  },
  {
   "cell_type": "code",
   "execution_count": 122,
   "id": "f681597d",
   "metadata": {},
   "outputs": [
    {
     "name": "stdout",
     "output_type": "stream",
     "text": [
      "              precision    recall  f1-score   support\n",
      "\n",
      "           0       0.95      0.92      0.93      1300\n",
      "           1       0.92      0.95      0.94      1300\n",
      "\n",
      "    accuracy                           0.94      2600\n",
      "   macro avg       0.94      0.94      0.94      2600\n",
      "weighted avg       0.94      0.94      0.94      2600\n",
      "\n"
     ]
    }
   ],
   "source": [
    "print(classification_report(test_image_gen.classes,predictions))"
   ]
  },
  {
   "cell_type": "code",
   "execution_count": 123,
   "id": "3e0e8f93",
   "metadata": {},
   "outputs": [
    {
     "data": {
      "text/plain": [
       "array([[1191,  109],\n",
       "       [  59, 1241]], dtype=int64)"
      ]
     },
     "execution_count": 123,
     "metadata": {},
     "output_type": "execute_result"
    }
   ],
   "source": [
    "confusion_matrix(test_image_gen.classes,predictions)"
   ]
  },
  {
   "cell_type": "markdown",
   "id": "b07ecb34",
   "metadata": {},
   "source": [
    "# Prediction"
   ]
  },
  {
   "cell_type": "code",
   "execution_count": 130,
   "id": "badea9d9",
   "metadata": {},
   "outputs": [],
   "source": [
    "my_image = image.load_img(para_cell,target_size=image_shape)"
   ]
  },
  {
   "cell_type": "code",
   "execution_count": 132,
   "id": "f0f84fc9",
   "metadata": {},
   "outputs": [
    {
     "data": {
      "image/png": "[encoded data removed]",
      "text/plain": [
       "<PIL.Image.Image image mode=RGB size=130x130>"
      ]
     },
     "execution_count": 132,
     "metadata": {},
     "output_type": "execute_result"
    }
   ],
   "source": [
    "my_image"
   ]
  },
  {
   "cell_type": "code",
   "execution_count": 134,
   "id": "7c74eb8b",
   "metadata": {},
   "outputs": [
    {
     "data": {
      "text/plain": [
       "PIL.Image.Image"
      ]
     },
     "execution_count": 134,
     "metadata": {},
     "output_type": "execute_result"
    }
   ],
   "source": [
    "type(my_image)"
   ]
  },
  {
   "cell_type": "code",
   "execution_count": 135,
   "id": "50b2d99c",
   "metadata": {},
   "outputs": [],
   "source": [
    "my_image = image.img_to_array(my_image)"
   ]
  },
  {
   "cell_type": "code",
   "execution_count": 136,
   "id": "a14c2ec0",
   "metadata": {},
   "outputs": [
    {
     "data": {
      "text/plain": [
       "numpy.ndarray"
      ]
     },
     "execution_count": 136,
     "metadata": {},
     "output_type": "execute_result"
    }
   ],
   "source": [
    "type(my_image)"
   ]
  },
  {
   "cell_type": "code",
   "execution_count": 129,
   "id": "8d83189b",
   "metadata": {},
   "outputs": [
    {
     "data": {
      "text/plain": [
       "(130, 130, 3)"
      ]
     },
     "execution_count": 129,
     "metadata": {},
     "output_type": "execute_result"
    }
   ],
   "source": [
    "my_image.shape"
   ]
  },
  {
   "cell_type": "code",
   "execution_count": 137,
   "id": "6d265480",
   "metadata": {},
   "outputs": [],
   "source": [
    "my_image = np.expand_dims(my_image, axis=0)"
   ]
  },
  {
   "cell_type": "code",
   "execution_count": 138,
   "id": "aaba9b53",
   "metadata": {},
   "outputs": [
    {
     "data": {
      "text/plain": [
       "(1, 130, 130, 3)"
      ]
     },
     "execution_count": 138,
     "metadata": {},
     "output_type": "execute_result"
    }
   ],
   "source": [
    "my_image.shape"
   ]
  },
  {
   "cell_type": "code",
   "execution_count": 144,
   "id": "1fd92282",
   "metadata": {},
   "outputs": [
    {
     "name": "stdout",
     "output_type": "stream",
     "text": [
      "1/1 [==============================] - 0s 21ms/step\n"
     ]
    }
   ],
   "source": [
    "pred1 = model.predict(my_image)"
   ]
  },
  {
   "cell_type": "code",
   "execution_count": 145,
   "id": "e1fe241a",
   "metadata": {},
   "outputs": [
    {
     "data": {
      "text/plain": [
       "array([[ True]])"
      ]
     },
     "execution_count": 145,
     "metadata": {},
     "output_type": "execute_result"
    }
   ],
   "source": [
    "pred1>0"
   ]
  },
  {
   "cell_type": "code",
   "execution_count": 146,
   "id": "3e05bdfd",
   "metadata": {},
   "outputs": [
    {
     "data": {
      "text/plain": [
       "{'parasitized': 0, 'uninfected': 1}"
      ]
     },
     "execution_count": 146,
     "metadata": {},
     "output_type": "execute_result"
    }
   ],
   "source": [
    "test_image_gen.class_indices"
   ]
  }
 ],
 "metadata": {
  "kernelspec": {
   "display_name": "Python 3 (ipykernel)",
   "language": "python",
   "name": "python3"
  },
  "language_info": {
   "codemirror_mode": {
    "name": "ipython",
    "version": 3
   },
   "file_extension": ".py",
   "mimetype": "text/x-python",
   "name": "python",
   "nbconvert_exporter": "python",
   "pygments_lexer": "ipython3",
   "version": "3.10.9"
  }
 },
 "nbformat": 4,
 "nbformat_minor": 5
}
